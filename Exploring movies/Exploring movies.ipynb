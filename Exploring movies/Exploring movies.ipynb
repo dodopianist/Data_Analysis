{
 "cells": [
  {
   "cell_type": "markdown",
   "id": "874c2571",
   "metadata": {},
   "source": [
    "# AN EXPLORATORY DATA ANALYSIS IN MOVIES\n",
    "Scripting Language Project by Ching-Han Kuo (r0911555)"
   ]
  },
  {
   "cell_type": "markdown",
   "id": "b6b265a1",
   "metadata": {},
   "source": [
    "In this project, three datasets are analysed. First, it looks at the scope of a dataset containing the top 1000 ranking movies on IMDB. Second, it compares the top 1000 movies with Christmas movies. Finally, it investigates the scripts of the Star Wars trilogy."
   ]
  },
  {
   "cell_type": "code",
   "execution_count": 1,
   "id": "8e102e53",
   "metadata": {},
   "outputs": [
    {
     "name": "stderr",
     "output_type": "stream",
     "text": [
      "'unzip' 不是內部或外部命令、可執行的程式或批次檔。\n"
     ]
    }
   ],
   "source": [
    "!unzip movie_data.zip"
   ]
  },
  {
   "cell_type": "markdown",
   "id": "5c0f9cf6",
   "metadata": {},
   "source": [
    "## 1. IMDB Top 1000"
   ]
  },
  {
   "cell_type": "markdown",
   "id": "9d989c43",
   "metadata": {},
   "source": [
    "Now, we take a glance at the first dataset, which stores the top 1000 ranking movies on IMDB."
   ]
  },
  {
   "cell_type": "code",
   "execution_count": 2,
   "id": "eb7971e1",
   "metadata": {},
   "outputs": [],
   "source": [
    "import pandas as pd"
   ]
  },
  {
   "cell_type": "code",
   "execution_count": 3,
   "id": "030984d5",
   "metadata": {},
   "outputs": [
    {
     "data": {
      "text/html": [
       "<div>\n",
       "<style scoped>\n",
       "    .dataframe tbody tr th:only-of-type {\n",
       "        vertical-align: middle;\n",
       "    }\n",
       "\n",
       "    .dataframe tbody tr th {\n",
       "        vertical-align: top;\n",
       "    }\n",
       "\n",
       "    .dataframe thead th {\n",
       "        text-align: right;\n",
       "    }\n",
       "</style>\n",
       "<table border=\"1\" class=\"dataframe\">\n",
       "  <thead>\n",
       "    <tr style=\"text-align: right;\">\n",
       "      <th></th>\n",
       "      <th>Ranking Of Movie</th>\n",
       "      <th>Movie Name</th>\n",
       "      <th>Year</th>\n",
       "      <th>Certificate</th>\n",
       "      <th>Runtime</th>\n",
       "      <th>Genre</th>\n",
       "      <th>Rating</th>\n",
       "      <th>Metascore</th>\n",
       "      <th>Detail About Movie</th>\n",
       "      <th>Director</th>\n",
       "      <th>Actor 1</th>\n",
       "      <th>Actor 2</th>\n",
       "      <th>Actor 3</th>\n",
       "      <th>Actor 4</th>\n",
       "      <th>Votes</th>\n",
       "      <th>Gross Collection</th>\n",
       "    </tr>\n",
       "  </thead>\n",
       "  <tbody>\n",
       "    <tr>\n",
       "      <th>0</th>\n",
       "      <td>1</td>\n",
       "      <td>The Shawshank Redemption</td>\n",
       "      <td>-1994</td>\n",
       "      <td>15</td>\n",
       "      <td>142 min</td>\n",
       "      <td>Drama</td>\n",
       "      <td>9.3</td>\n",
       "      <td>81.0</td>\n",
       "      <td>Two imprisoned men bond over a number of years...</td>\n",
       "      <td>Frank Darabont</td>\n",
       "      <td>Tim Robbins</td>\n",
       "      <td>Morgan Freeman</td>\n",
       "      <td>Bob Gunton</td>\n",
       "      <td>William Sadler</td>\n",
       "      <td>2,603,314</td>\n",
       "      <td>$28.34M</td>\n",
       "    </tr>\n",
       "    <tr>\n",
       "      <th>1</th>\n",
       "      <td>2</td>\n",
       "      <td>The Godfather</td>\n",
       "      <td>-1972</td>\n",
       "      <td>X</td>\n",
       "      <td>175 min</td>\n",
       "      <td>Crime, Drama</td>\n",
       "      <td>9.2</td>\n",
       "      <td>100.0</td>\n",
       "      <td>The aging patriarch of an organized crime dyna...</td>\n",
       "      <td>Francis Ford Coppola</td>\n",
       "      <td>Marlon Brando</td>\n",
       "      <td>Al Pacino</td>\n",
       "      <td>James Caan</td>\n",
       "      <td>Diane Keaton</td>\n",
       "      <td>1,798,731</td>\n",
       "      <td>$134.97M</td>\n",
       "    </tr>\n",
       "    <tr>\n",
       "      <th>2</th>\n",
       "      <td>3</td>\n",
       "      <td>The Dark Knight</td>\n",
       "      <td>-2008</td>\n",
       "      <td>12A</td>\n",
       "      <td>152 min</td>\n",
       "      <td>Action, Crime, Drama</td>\n",
       "      <td>9.0</td>\n",
       "      <td>84.0</td>\n",
       "      <td>When the menace known as the Joker wreaks havo...</td>\n",
       "      <td>Christopher Nolan</td>\n",
       "      <td>Christian Bale</td>\n",
       "      <td>Heath Ledger</td>\n",
       "      <td>Aaron Eckhart</td>\n",
       "      <td>Michael Caine</td>\n",
       "      <td>2,574,810</td>\n",
       "      <td>$534.86M</td>\n",
       "    </tr>\n",
       "    <tr>\n",
       "      <th>3</th>\n",
       "      <td>4</td>\n",
       "      <td>The Lord of the Rings: The Return of the King</td>\n",
       "      <td>-2003</td>\n",
       "      <td>12A</td>\n",
       "      <td>201 min</td>\n",
       "      <td>Action, Adventure, Drama</td>\n",
       "      <td>9.0</td>\n",
       "      <td>94.0</td>\n",
       "      <td>Gandalf and Aragorn lead the World of Men agai...</td>\n",
       "      <td>Peter Jackson</td>\n",
       "      <td>Elijah Wood</td>\n",
       "      <td>Viggo Mortensen</td>\n",
       "      <td>Ian McKellen</td>\n",
       "      <td>Orlando Bloom</td>\n",
       "      <td>1,787,701</td>\n",
       "      <td>$377.85M</td>\n",
       "    </tr>\n",
       "    <tr>\n",
       "      <th>4</th>\n",
       "      <td>5</td>\n",
       "      <td>Schindler's List</td>\n",
       "      <td>-1993</td>\n",
       "      <td>15</td>\n",
       "      <td>195 min</td>\n",
       "      <td>Biography, Drama, History</td>\n",
       "      <td>9.0</td>\n",
       "      <td>94.0</td>\n",
       "      <td>In German-occupied Poland during World War II,...</td>\n",
       "      <td>Steven Spielberg</td>\n",
       "      <td>Liam Neeson</td>\n",
       "      <td>Ralph Fiennes</td>\n",
       "      <td>Ben Kingsley</td>\n",
       "      <td>Caroline Goodall</td>\n",
       "      <td>1,323,776</td>\n",
       "      <td>$96.90M</td>\n",
       "    </tr>\n",
       "  </tbody>\n",
       "</table>\n",
       "</div>"
      ],
      "text/plain": [
       "   Ranking Of Movie                                     Movie Name   Year  \\\n",
       "0                 1                       The Shawshank Redemption  -1994   \n",
       "1                 2                                  The Godfather  -1972   \n",
       "2                 3                                The Dark Knight  -2008   \n",
       "3                 4  The Lord of the Rings: The Return of the King  -2003   \n",
       "4                 5                               Schindler's List  -1993   \n",
       "\n",
       "  Certificate  Runtime                      Genre  Rating  Metascore  \\\n",
       "0          15  142 min                      Drama     9.3       81.0   \n",
       "1           X  175 min               Crime, Drama     9.2      100.0   \n",
       "2         12A  152 min       Action, Crime, Drama     9.0       84.0   \n",
       "3         12A  201 min   Action, Adventure, Drama     9.0       94.0   \n",
       "4          15  195 min  Biography, Drama, History     9.0       94.0   \n",
       "\n",
       "                                  Detail About Movie              Director  \\\n",
       "0  Two imprisoned men bond over a number of years...        Frank Darabont   \n",
       "1  The aging patriarch of an organized crime dyna...  Francis Ford Coppola   \n",
       "2  When the menace known as the Joker wreaks havo...     Christopher Nolan   \n",
       "3  Gandalf and Aragorn lead the World of Men agai...         Peter Jackson   \n",
       "4  In German-occupied Poland during World War II,...      Steven Spielberg   \n",
       "\n",
       "          Actor 1          Actor 2        Actor 3           Actor 4  \\\n",
       "0     Tim Robbins   Morgan Freeman     Bob Gunton    William Sadler   \n",
       "1   Marlon Brando        Al Pacino     James Caan      Diane Keaton   \n",
       "2  Christian Bale     Heath Ledger  Aaron Eckhart     Michael Caine   \n",
       "3     Elijah Wood  Viggo Mortensen   Ian McKellen     Orlando Bloom   \n",
       "4     Liam Neeson    Ralph Fiennes   Ben Kingsley  Caroline Goodall   \n",
       "\n",
       "       Votes Gross Collection  \n",
       "0  2,603,314          $28.34M  \n",
       "1  1,798,731         $134.97M  \n",
       "2  2,574,810         $534.86M  \n",
       "3  1,787,701         $377.85M  \n",
       "4  1,323,776          $96.90M  "
      ]
     },
     "execution_count": 3,
     "metadata": {},
     "output_type": "execute_result"
    }
   ],
   "source": [
    "df_top1000 = pd.read_csv('movie_data\\imdb_top_1000.csv')\n",
    "\n",
    "# make columns more neat and readable\n",
    "columns = df_top1000.columns\n",
    "for column in columns:\n",
    "    column_clean = column.strip().title()\n",
    "    df_top1000.rename(columns = {column:column_clean}, inplace = True)\n",
    "\n",
    "# call the top five rows of the CSV\n",
    "df_top1000.head()"
   ]
  },
  {
   "cell_type": "markdown",
   "id": "0c57c9bb",
   "metadata": {},
   "source": [
    "### 1-1. Descriptive Statistics"
   ]
  },
  {
   "cell_type": "markdown",
   "id": "a3cd12ba",
   "metadata": {},
   "source": [
    "#### • Released Year"
   ]
  },
  {
   "cell_type": "markdown",
   "id": "ef298766",
   "metadata": {},
   "source": [
    "In which year were these movies released? We find it by looking at the column 'Year'"
   ]
  },
  {
   "cell_type": "code",
   "execution_count": 4,
   "id": "f00e326f",
   "metadata": {},
   "outputs": [
    {
     "data": {
      "text/plain": [
       "0    -1994\n",
       "1    -1972\n",
       "2    -2008\n",
       "3    -2003\n",
       "4    -1993\n",
       "Name: Year, dtype: object"
      ]
     },
     "execution_count": 4,
     "metadata": {},
     "output_type": "execute_result"
    }
   ],
   "source": [
    "df_top1000['Year'].head()"
   ]
  },
  {
   "cell_type": "markdown",
   "id": "07571340",
   "metadata": {},
   "source": [
    "Noticeably, the cells in this column contain '-' which should be eliminated, and the whole column should also be transformed into an integer type to be computed further."
   ]
  },
  {
   "cell_type": "code",
   "execution_count": 5,
   "id": "d13c5855",
   "metadata": {},
   "outputs": [],
   "source": [
    "# replace all the character in the column that is not a number\n",
    "# then transform the column into a numeric type\n",
    "df_top1000['Year'] = df_top1000['Year'].str.replace(\"[^0-9]\", \"\", regex = True).apply(pd.to_numeric)"
   ]
  },
  {
   "cell_type": "markdown",
   "id": "acd37369",
   "metadata": {},
   "source": [
    "Now we can play with the column. First, it can be sorted by year. We can see that the oldest movie in the top 1000 is 'The Cabinet of Dr. Caligari' which is released in 1920."
   ]
  },
  {
   "cell_type": "code",
   "execution_count": 6,
   "id": "20102a05",
   "metadata": {},
   "outputs": [
    {
     "data": {
      "text/html": [
       "<div>\n",
       "<style scoped>\n",
       "    .dataframe tbody tr th:only-of-type {\n",
       "        vertical-align: middle;\n",
       "    }\n",
       "\n",
       "    .dataframe tbody tr th {\n",
       "        vertical-align: top;\n",
       "    }\n",
       "\n",
       "    .dataframe thead th {\n",
       "        text-align: right;\n",
       "    }\n",
       "</style>\n",
       "<table border=\"1\" class=\"dataframe\">\n",
       "  <thead>\n",
       "    <tr style=\"text-align: right;\">\n",
       "      <th></th>\n",
       "      <th>Movie Name</th>\n",
       "      <th>Year</th>\n",
       "    </tr>\n",
       "  </thead>\n",
       "  <tbody>\n",
       "    <tr>\n",
       "      <th>460</th>\n",
       "      <td>The Cabinet of Dr. Caligari</td>\n",
       "      <td>1920</td>\n",
       "    </tr>\n",
       "    <tr>\n",
       "      <th>134</th>\n",
       "      <td>The Kid</td>\n",
       "      <td>1921</td>\n",
       "    </tr>\n",
       "    <tr>\n",
       "      <th>588</th>\n",
       "      <td>Nosferatu</td>\n",
       "      <td>1922</td>\n",
       "    </tr>\n",
       "    <tr>\n",
       "      <th>204</th>\n",
       "      <td>Sherlock Jr.</td>\n",
       "      <td>1924</td>\n",
       "    </tr>\n",
       "    <tr>\n",
       "      <th>459</th>\n",
       "      <td>Battleship Potemkin</td>\n",
       "      <td>1925</td>\n",
       "    </tr>\n",
       "  </tbody>\n",
       "</table>\n",
       "</div>"
      ],
      "text/plain": [
       "                      Movie Name  Year\n",
       "460  The Cabinet of Dr. Caligari  1920\n",
       "134                      The Kid  1921\n",
       "588                    Nosferatu  1922\n",
       "204                 Sherlock Jr.  1924\n",
       "459          Battleship Potemkin  1925"
      ]
     },
     "execution_count": 6,
     "metadata": {},
     "output_type": "execute_result"
    }
   ],
   "source": [
    "# sort from the smallest number of 'Year'\n",
    "df_top1000.loc[:, ['Movie Name','Year']].sort_values(by = ['Year']).head()"
   ]
  },
  {
   "cell_type": "markdown",
   "id": "1cecb022",
   "metadata": {},
   "source": [
    "We can also set a condition to see what movies in the top 1000 were released in 2022, and there are five movies."
   ]
  },
  {
   "cell_type": "code",
   "execution_count": 7,
   "id": "ecd5390a",
   "metadata": {},
   "outputs": [
    {
     "data": {
      "text/plain": [
       "20                     Top Gun: Maverick\n",
       "38                      K.G.F: Chapter 2\n",
       "92     Everything Everywhere All at Once\n",
       "206                                  RRR\n",
       "480                           The Batman\n",
       "Name: Movie Name, dtype: object"
      ]
     },
     "execution_count": 7,
     "metadata": {},
     "output_type": "execute_result"
    }
   ],
   "source": [
    "df_top1000.loc[df_top1000['Year'] == 2022]['Movie Name']"
   ]
  },
  {
   "cell_type": "markdown",
   "id": "aea1e577",
   "metadata": {},
   "source": [
    "After computing the result of the distribution of the released year, it seems that most of the top 1000 movies (almost 50%) were released after 2000."
   ]
  },
  {
   "cell_type": "code",
   "execution_count": 8,
   "id": "63de451e",
   "metadata": {},
   "outputs": [
    {
     "data": {
      "text/plain": [
       "(count    1000.000000\n",
       " mean     1991.176000\n",
       " std        23.875449\n",
       " min      1920.000000\n",
       " 25%      1975.000000\n",
       " 50%      1999.000000\n",
       " 75%      2010.000000\n",
       " max      2022.000000\n",
       " Name: Year, dtype: float64,\n",
       " <AxesSubplot:>)"
      ]
     },
     "execution_count": 8,
     "metadata": {},
     "output_type": "execute_result"
    },
    {
     "data": {
      "image/png": "[encoded data removed]",
      "text/plain": [
       "<Figure size 720x360 with 1 Axes>"
      ]
     },
     "metadata": {
      "needs_background": "light"
     },
     "output_type": "display_data"
    }
   ],
   "source": [
    "# get a description of this column, and plot a line graph\n",
    "df_top1000['Year'].describe(), df_top1000['Year'].value_counts().sort_index().plot.line(figsize = (10, 5))"
   ]
  },
  {
   "cell_type": "markdown",
   "id": "57a37375",
   "metadata": {},
   "source": [
    "But in which period released the most movies in the top 1000? To get this information, we need to make another column 'Period', and tag each year with the period accordingly."
   ]
  },
  {
   "cell_type": "code",
   "execution_count": 9,
   "id": "f9591346",
   "metadata": {},
   "outputs": [
    {
     "data": {
      "text/html": [
       "<div>\n",
       "<style scoped>\n",
       "    .dataframe tbody tr th:only-of-type {\n",
       "        vertical-align: middle;\n",
       "    }\n",
       "\n",
       "    .dataframe tbody tr th {\n",
       "        vertical-align: top;\n",
       "    }\n",
       "\n",
       "    .dataframe thead th {\n",
       "        text-align: right;\n",
       "    }\n",
       "</style>\n",
       "<table border=\"1\" class=\"dataframe\">\n",
       "  <thead>\n",
       "    <tr style=\"text-align: right;\">\n",
       "      <th></th>\n",
       "      <th>Year</th>\n",
       "      <th>Period</th>\n",
       "    </tr>\n",
       "  </thead>\n",
       "  <tbody>\n",
       "    <tr>\n",
       "      <th>0</th>\n",
       "      <td>1994</td>\n",
       "      <td>1990s</td>\n",
       "    </tr>\n",
       "    <tr>\n",
       "      <th>1</th>\n",
       "      <td>1972</td>\n",
       "      <td>1970s</td>\n",
       "    </tr>\n",
       "    <tr>\n",
       "      <th>2</th>\n",
       "      <td>2008</td>\n",
       "      <td>2000s</td>\n",
       "    </tr>\n",
       "    <tr>\n",
       "      <th>3</th>\n",
       "      <td>2003</td>\n",
       "      <td>2000s</td>\n",
       "    </tr>\n",
       "    <tr>\n",
       "      <th>4</th>\n",
       "      <td>1993</td>\n",
       "      <td>1990s</td>\n",
       "    </tr>\n",
       "  </tbody>\n",
       "</table>\n",
       "</div>"
      ],
      "text/plain": [
       "   Year Period\n",
       "0  1994  1990s\n",
       "1  1972  1970s\n",
       "2  2008  2000s\n",
       "3  2003  2000s\n",
       "4  1993  1990s"
      ]
     },
     "execution_count": 9,
     "metadata": {},
     "output_type": "execute_result"
    }
   ],
   "source": [
    "# create a list of the period\n",
    "# and each period is appended according to each row in the column 'Year'\n",
    "period_list = []\n",
    "for row in df_top1000['Year']:\n",
    "    if row >= 2020:\n",
    "        period_list.append('2020s')\n",
    "    elif row >= 2010:\n",
    "        period_list.append('2010s')\n",
    "    elif row >= 2000:\n",
    "        period_list.append('2000s')\n",
    "    elif row >= 1990:\n",
    "        period_list.append('1990s')\n",
    "    elif row >= 1980:\n",
    "        period_list.append('1980s')\n",
    "    elif row >= 1970:\n",
    "        period_list.append('1970s')\n",
    "    elif row >= 1960:\n",
    "        period_list.append('1960s')\n",
    "    elif row >= 1950:\n",
    "        period_list.append('1950s')\n",
    "    elif row >= 1940:\n",
    "        period_list.append('1940s')\n",
    "    elif row >= 1930:\n",
    "        period_list.append('1930s')\n",
    "    else:\n",
    "        period_list.append('1920s')\n",
    "\n",
    "# create a column 'Period' to store the period_list\n",
    "df_top1000['Period'] = period_list\n",
    "\n",
    "df_top1000.loc[:, ['Year', 'Period']].head()"
   ]
  },
  {
   "cell_type": "markdown",
   "id": "05f29497",
   "metadata": {},
   "source": [
    "Now we have the period column to play with! We can see that most of the movies in the top 1000 were released in the 2010s (23.7%)."
   ]
  },
  {
   "cell_type": "code",
   "execution_count": 10,
   "id": "9e4e4e0f",
   "metadata": {},
   "outputs": [
    {
     "data": {
      "text/html": [
       "<div>\n",
       "<style scoped>\n",
       "    .dataframe tbody tr th:only-of-type {\n",
       "        vertical-align: middle;\n",
       "    }\n",
       "\n",
       "    .dataframe tbody tr th {\n",
       "        vertical-align: top;\n",
       "    }\n",
       "\n",
       "    .dataframe thead th {\n",
       "        text-align: right;\n",
       "    }\n",
       "</style>\n",
       "<table border=\"1\" class=\"dataframe\">\n",
       "  <thead>\n",
       "    <tr style=\"text-align: right;\">\n",
       "      <th></th>\n",
       "      <th>Count</th>\n",
       "      <th>Percentage</th>\n",
       "    </tr>\n",
       "  </thead>\n",
       "  <tbody>\n",
       "    <tr>\n",
       "      <th>2010s</th>\n",
       "      <td>237</td>\n",
       "      <td>23.7</td>\n",
       "    </tr>\n",
       "    <tr>\n",
       "      <th>2000s</th>\n",
       "      <td>228</td>\n",
       "      <td>22.8</td>\n",
       "    </tr>\n",
       "    <tr>\n",
       "      <th>1990s</th>\n",
       "      <td>145</td>\n",
       "      <td>14.5</td>\n",
       "    </tr>\n",
       "    <tr>\n",
       "      <th>1980s</th>\n",
       "      <td>90</td>\n",
       "      <td>9.0</td>\n",
       "    </tr>\n",
       "    <tr>\n",
       "      <th>1960s</th>\n",
       "      <td>75</td>\n",
       "      <td>7.5</td>\n",
       "    </tr>\n",
       "    <tr>\n",
       "      <th>1970s</th>\n",
       "      <td>68</td>\n",
       "      <td>6.8</td>\n",
       "    </tr>\n",
       "    <tr>\n",
       "      <th>1950s</th>\n",
       "      <td>59</td>\n",
       "      <td>5.9</td>\n",
       "    </tr>\n",
       "    <tr>\n",
       "      <th>1940s</th>\n",
       "      <td>38</td>\n",
       "      <td>3.8</td>\n",
       "    </tr>\n",
       "    <tr>\n",
       "      <th>1930s</th>\n",
       "      <td>26</td>\n",
       "      <td>2.6</td>\n",
       "    </tr>\n",
       "    <tr>\n",
       "      <th>2020s</th>\n",
       "      <td>23</td>\n",
       "      <td>2.3</td>\n",
       "    </tr>\n",
       "    <tr>\n",
       "      <th>1920s</th>\n",
       "      <td>11</td>\n",
       "      <td>1.1</td>\n",
       "    </tr>\n",
       "  </tbody>\n",
       "</table>\n",
       "</div>"
      ],
      "text/plain": [
       "       Count  Percentage\n",
       "2010s    237        23.7\n",
       "2000s    228        22.8\n",
       "1990s    145        14.5\n",
       "1980s     90         9.0\n",
       "1960s     75         7.5\n",
       "1970s     68         6.8\n",
       "1950s     59         5.9\n",
       "1940s     38         3.8\n",
       "1930s     26         2.6\n",
       "2020s     23         2.3\n",
       "1920s     11         1.1"
      ]
     },
     "execution_count": 10,
     "metadata": {},
     "output_type": "execute_result"
    }
   ],
   "source": [
    "# compute the counts and percentages of column 'Period'\n",
    "period_counts = df_top1000['Period'].value_counts()\n",
    "period_percentages = df_top1000['Period'].value_counts(normalize = True).mul(100).round(2)\n",
    "\n",
    "# then build a table to contain this information\n",
    "pd.concat([period_counts, period_percentages], axis = 1, keys = ['Count', 'Percentage'])"
   ]
  },
  {
   "cell_type": "code",
   "execution_count": 11,
   "id": "686ccfd1",
   "metadata": {},
   "outputs": [
    {
     "data": {
      "image/png": "[encoded data removed]",
      "text/plain": [
       "<Figure size 720x360 with 1 Axes>"
      ]
     },
     "metadata": {
      "needs_background": "light"
     },
     "output_type": "display_data"
    }
   ],
   "source": [
    "# plot the bar chart and sort the index in chronological order\n",
    "period_plot = df_top1000['Period'].value_counts().sort_index(ascending = False).plot.barh(figsize = (10, 5))\n",
    "\n",
    "# to insert value labels in the graph\n",
    "for container in period_plot.containers:\n",
    "    period_plot.bar_label(container)"
   ]
  },
  {
   "cell_type": "markdown",
   "id": "81d1f7d7",
   "metadata": {},
   "source": [
    "#### • Runtime"
   ]
  },
  {
   "cell_type": "markdown",
   "id": "204f59bd",
   "metadata": {},
   "source": [
    "By looking at the column 'Runtime', we can find out how long the top 1000 movies are."
   ]
  },
  {
   "cell_type": "code",
   "execution_count": 12,
   "id": "b590cfcc",
   "metadata": {},
   "outputs": [
    {
     "data": {
      "text/plain": [
       "0    142 min\n",
       "1    175 min\n",
       "2    152 min\n",
       "3    201 min\n",
       "4    195 min\n",
       "Name: Runtime, dtype: object"
      ]
     },
     "execution_count": 12,
     "metadata": {},
     "output_type": "execute_result"
    }
   ],
   "source": [
    "df_top1000['Runtime'].head()"
   ]
  },
  {
   "cell_type": "markdown",
   "id": "33e35539",
   "metadata": {},
   "source": [
    "As in column 'Year', characters in column 'Runtime' that are not numbers are needed to be eliminated too."
   ]
  },
  {
   "cell_type": "code",
   "execution_count": 13,
   "id": "ae503ef5",
   "metadata": {},
   "outputs": [],
   "source": [
    "df_top1000['Runtime'] = df_top1000['Runtime'].str.replace(\"[^0-9]\", \"\", regex = True).apply(pd.to_numeric)"
   ]
  },
  {
   "cell_type": "markdown",
   "id": "4393580f",
   "metadata": {},
   "source": [
    "By sorting, we can see that the shortest movie in the top 1000 is 'Sherlock Jr.' (45 mins), and the longest one is 'Gangs of Wasseypur' (321 mins)."
   ]
  },
  {
   "cell_type": "code",
   "execution_count": 14,
   "id": "ca7b7a6b",
   "metadata": {},
   "outputs": [
    {
     "data": {
      "text/html": [
       "<div>\n",
       "<style scoped>\n",
       "    .dataframe tbody tr th:only-of-type {\n",
       "        vertical-align: middle;\n",
       "    }\n",
       "\n",
       "    .dataframe tbody tr th {\n",
       "        vertical-align: top;\n",
       "    }\n",
       "\n",
       "    .dataframe thead th {\n",
       "        text-align: right;\n",
       "    }\n",
       "</style>\n",
       "<table border=\"1\" class=\"dataframe\">\n",
       "  <thead>\n",
       "    <tr style=\"text-align: right;\">\n",
       "      <th></th>\n",
       "      <th>Movie Name</th>\n",
       "      <th>Runtime</th>\n",
       "    </tr>\n",
       "  </thead>\n",
       "  <tbody>\n",
       "    <tr>\n",
       "      <th>204</th>\n",
       "      <td>Sherlock Jr.</td>\n",
       "      <td>45</td>\n",
       "    </tr>\n",
       "    <tr>\n",
       "      <th>460</th>\n",
       "      <td>The Cabinet of Dr. Caligari</td>\n",
       "      <td>58</td>\n",
       "    </tr>\n",
       "    <tr>\n",
       "      <th>587</th>\n",
       "      <td>Freaks</td>\n",
       "      <td>64</td>\n",
       "    </tr>\n",
       "    <tr>\n",
       "      <th>202</th>\n",
       "      <td>The General</td>\n",
       "      <td>67</td>\n",
       "    </tr>\n",
       "    <tr>\n",
       "      <th>134</th>\n",
       "      <td>The Kid</td>\n",
       "      <td>68</td>\n",
       "    </tr>\n",
       "  </tbody>\n",
       "</table>\n",
       "</div>"
      ],
      "text/plain": [
       "                      Movie Name  Runtime\n",
       "204                 Sherlock Jr.       45\n",
       "460  The Cabinet of Dr. Caligari       58\n",
       "587                       Freaks       64\n",
       "202                  The General       67\n",
       "134                      The Kid       68"
      ]
     },
     "execution_count": 14,
     "metadata": {},
     "output_type": "execute_result"
    }
   ],
   "source": [
    "# sort from the smallest number of 'Runtime'\n",
    "df_top1000.loc[:, ['Movie Name', 'Runtime']].sort_values(by = ['Runtime']).head()"
   ]
  },
  {
   "cell_type": "code",
   "execution_count": 15,
   "id": "e2a39368",
   "metadata": {},
   "outputs": [
    {
     "data": {
      "text/html": [
       "<div>\n",
       "<style scoped>\n",
       "    .dataframe tbody tr th:only-of-type {\n",
       "        vertical-align: middle;\n",
       "    }\n",
       "\n",
       "    .dataframe tbody tr th {\n",
       "        vertical-align: top;\n",
       "    }\n",
       "\n",
       "    .dataframe thead th {\n",
       "        text-align: right;\n",
       "    }\n",
       "</style>\n",
       "<table border=\"1\" class=\"dataframe\">\n",
       "  <thead>\n",
       "    <tr style=\"text-align: right;\">\n",
       "      <th></th>\n",
       "      <th>Movie Name</th>\n",
       "      <th>Runtime</th>\n",
       "    </tr>\n",
       "  </thead>\n",
       "  <tbody>\n",
       "    <tr>\n",
       "      <th>147</th>\n",
       "      <td>Gangs of Wasseypur</td>\n",
       "      <td>321</td>\n",
       "    </tr>\n",
       "    <tr>\n",
       "      <th>355</th>\n",
       "      <td>Zack Snyder's Justice League</td>\n",
       "      <td>242</td>\n",
       "    </tr>\n",
       "    <tr>\n",
       "      <th>672</th>\n",
       "      <td>Hamlet</td>\n",
       "      <td>242</td>\n",
       "    </tr>\n",
       "    <tr>\n",
       "      <th>200</th>\n",
       "      <td>Gone with the Wind</td>\n",
       "      <td>238</td>\n",
       "    </tr>\n",
       "    <tr>\n",
       "      <th>114</th>\n",
       "      <td>Once Upon a Time in America</td>\n",
       "      <td>229</td>\n",
       "    </tr>\n",
       "  </tbody>\n",
       "</table>\n",
       "</div>"
      ],
      "text/plain": [
       "                       Movie Name  Runtime\n",
       "147            Gangs of Wasseypur      321\n",
       "355  Zack Snyder's Justice League      242\n",
       "672                        Hamlet      242\n",
       "200            Gone with the Wind      238\n",
       "114   Once Upon a Time in America      229"
      ]
     },
     "execution_count": 15,
     "metadata": {},
     "output_type": "execute_result"
    }
   ],
   "source": [
    "# sort from the largest number of 'Runtime'\n",
    "df_top1000.loc[:, ['Movie Name',\n",
    "                   'Runtime']].sort_values(by = ['Runtime'], ascending = False).head()"
   ]
  },
  {
   "cell_type": "markdown",
   "id": "8dac15f0",
   "metadata": {},
   "source": [
    "And compute the distribution, we can realise that in the top 1000 movies, more than half of them are 100 to 150 minutes."
   ]
  },
  {
   "cell_type": "code",
   "execution_count": 16,
   "id": "5f5fb76b",
   "metadata": {},
   "outputs": [],
   "source": [
    "# seaborn can plot the box plot more nicely, so we import it here\n",
    "import seaborn as sns"
   ]
  },
  {
   "cell_type": "code",
   "execution_count": 17,
   "id": "b6fd7a33",
   "metadata": {},
   "outputs": [
    {
     "data": {
      "text/plain": [
       "(count    1000.000000\n",
       " mean      123.637000\n",
       " std        28.559602\n",
       " min        45.000000\n",
       " 25%       103.000000\n",
       " 50%       120.000000\n",
       " 75%       138.000000\n",
       " max       321.000000\n",
       " Name: Runtime, dtype: float64,\n",
       " <AxesSubplot:xlabel='Runtime'>)"
      ]
     },
     "execution_count": 17,
     "metadata": {},
     "output_type": "execute_result"
    },
    {
     "data": {
      "image/png": "[encoded data removed]",
      "text/plain": [
       "<Figure size 432x288 with 1 Axes>"
      ]
     },
     "metadata": {
      "needs_background": "light"
     },
     "output_type": "display_data"
    }
   ],
   "source": [
    "# get a description of this column, and plot a box plot\n",
    "df_top1000['Runtime'].describe(), sns.boxplot(x = 'Runtime', data = df_top1000)"
   ]
  },
  {
   "cell_type": "markdown",
   "id": "f130fb14",
   "metadata": {},
   "source": [
    "#### • Rating"
   ]
  },
  {
   "cell_type": "markdown",
   "id": "9b091796",
   "metadata": {},
   "source": [
    "Column 'Rating' is already in float type, so we can analyse it directly."
   ]
  },
  {
   "cell_type": "code",
   "execution_count": 18,
   "id": "3acccf3b",
   "metadata": {},
   "outputs": [
    {
     "data": {
      "text/plain": [
       "0    9.3\n",
       "1    9.2\n",
       "2    9.0\n",
       "3    9.0\n",
       "4    9.0\n",
       "Name: Rating, dtype: float64"
      ]
     },
     "execution_count": 18,
     "metadata": {},
     "output_type": "execute_result"
    }
   ],
   "source": [
    "df_top1000['Rating'].head()"
   ]
  },
  {
   "cell_type": "markdown",
   "id": "46c00c5c",
   "metadata": {},
   "source": [
    "And, because the ranking is according to the rating, so we can just search the highest and lowest rating of the movie by sorting 'Ranking Of Movie'. In the top 1000 movies, the movie with the highest rating is 'The Shawshank Redemption' (9.3), and 'The Invisible Man' has the lowest rating (7.6)."
   ]
  },
  {
   "cell_type": "code",
   "execution_count": 19,
   "id": "f25a9471",
   "metadata": {},
   "outputs": [
    {
     "data": {
      "text/html": [
       "<div>\n",
       "<style scoped>\n",
       "    .dataframe tbody tr th:only-of-type {\n",
       "        vertical-align: middle;\n",
       "    }\n",
       "\n",
       "    .dataframe tbody tr th {\n",
       "        vertical-align: top;\n",
       "    }\n",
       "\n",
       "    .dataframe thead th {\n",
       "        text-align: right;\n",
       "    }\n",
       "</style>\n",
       "<table border=\"1\" class=\"dataframe\">\n",
       "  <thead>\n",
       "    <tr style=\"text-align: right;\">\n",
       "      <th></th>\n",
       "      <th>Ranking Of Movie</th>\n",
       "      <th>Movie Name</th>\n",
       "      <th>Rating</th>\n",
       "    </tr>\n",
       "  </thead>\n",
       "  <tbody>\n",
       "    <tr>\n",
       "      <th>0</th>\n",
       "      <td>1</td>\n",
       "      <td>The Shawshank Redemption</td>\n",
       "      <td>9.3</td>\n",
       "    </tr>\n",
       "    <tr>\n",
       "      <th>1</th>\n",
       "      <td>2</td>\n",
       "      <td>The Godfather</td>\n",
       "      <td>9.2</td>\n",
       "    </tr>\n",
       "    <tr>\n",
       "      <th>2</th>\n",
       "      <td>3</td>\n",
       "      <td>The Dark Knight</td>\n",
       "      <td>9.0</td>\n",
       "    </tr>\n",
       "    <tr>\n",
       "      <th>3</th>\n",
       "      <td>4</td>\n",
       "      <td>The Lord of the Rings: The Return of the King</td>\n",
       "      <td>9.0</td>\n",
       "    </tr>\n",
       "    <tr>\n",
       "      <th>4</th>\n",
       "      <td>5</td>\n",
       "      <td>Schindler's List</td>\n",
       "      <td>9.0</td>\n",
       "    </tr>\n",
       "  </tbody>\n",
       "</table>\n",
       "</div>"
      ],
      "text/plain": [
       "   Ranking Of Movie                                     Movie Name  Rating\n",
       "0                 1                       The Shawshank Redemption     9.3\n",
       "1                 2                                  The Godfather     9.2\n",
       "2                 3                                The Dark Knight     9.0\n",
       "3                 4  The Lord of the Rings: The Return of the King     9.0\n",
       "4                 5                               Schindler's List     9.0"
      ]
     },
     "execution_count": 19,
     "metadata": {},
     "output_type": "execute_result"
    }
   ],
   "source": [
    "df_top1000.loc[:, ['Ranking Of Movie', 'Movie Name', 'Rating']].head()"
   ]
  },
  {
   "cell_type": "code",
   "execution_count": 20,
   "id": "3411cbb6",
   "metadata": {},
   "outputs": [
    {
     "data": {
      "text/html": [
       "<div>\n",
       "<style scoped>\n",
       "    .dataframe tbody tr th:only-of-type {\n",
       "        vertical-align: middle;\n",
       "    }\n",
       "\n",
       "    .dataframe tbody tr th {\n",
       "        vertical-align: top;\n",
       "    }\n",
       "\n",
       "    .dataframe thead th {\n",
       "        text-align: right;\n",
       "    }\n",
       "</style>\n",
       "<table border=\"1\" class=\"dataframe\">\n",
       "  <thead>\n",
       "    <tr style=\"text-align: right;\">\n",
       "      <th></th>\n",
       "      <th>Ranking Of Movie</th>\n",
       "      <th>Movie Name</th>\n",
       "      <th>Rating</th>\n",
       "    </tr>\n",
       "  </thead>\n",
       "  <tbody>\n",
       "    <tr>\n",
       "      <th>999</th>\n",
       "      <td>1000</td>\n",
       "      <td>The Invisible Man</td>\n",
       "      <td>7.6</td>\n",
       "    </tr>\n",
       "    <tr>\n",
       "      <th>998</th>\n",
       "      <td>999</td>\n",
       "      <td>The 39 Steps</td>\n",
       "      <td>7.6</td>\n",
       "    </tr>\n",
       "    <tr>\n",
       "      <th>997</th>\n",
       "      <td>998</td>\n",
       "      <td>Snow White and the Seven Dwarfs</td>\n",
       "      <td>7.6</td>\n",
       "    </tr>\n",
       "    <tr>\n",
       "      <th>996</th>\n",
       "      <td>997</td>\n",
       "      <td>From Here to Eternity</td>\n",
       "      <td>7.6</td>\n",
       "    </tr>\n",
       "    <tr>\n",
       "      <th>995</th>\n",
       "      <td>996</td>\n",
       "      <td>Sabrina</td>\n",
       "      <td>7.6</td>\n",
       "    </tr>\n",
       "  </tbody>\n",
       "</table>\n",
       "</div>"
      ],
      "text/plain": [
       "     Ranking Of Movie                       Movie Name  Rating\n",
       "999              1000                The Invisible Man     7.6\n",
       "998               999                     The 39 Steps     7.6\n",
       "997               998  Snow White and the Seven Dwarfs     7.6\n",
       "996               997            From Here to Eternity     7.6\n",
       "995               996                          Sabrina     7.6"
      ]
     },
     "execution_count": 20,
     "metadata": {},
     "output_type": "execute_result"
    }
   ],
   "source": [
    "df_top1000.loc[:, ['Ranking Of Movie',\n",
    "                   'Movie Name',\n",
    "                   'Rating']].sort_values(by = ['Ranking Of Movie'], ascending = False).head()"
   ]
  },
  {
   "cell_type": "markdown",
   "id": "2ac4f5df",
   "metadata": {},
   "source": [
    "We can also see that most of the top 1000 movies are rated under 8 (around 75%), indicating that you should be celebrating if you made a movie that is rated higher than 8 on IMDB."
   ]
  },
  {
   "cell_type": "code",
   "execution_count": 21,
   "id": "cd0176a1",
   "metadata": {},
   "outputs": [
    {
     "data": {
      "text/plain": [
       "(count    1000.000000\n",
       " mean        7.960200\n",
       " std         0.276717\n",
       " min         7.600000\n",
       " 25%         7.700000\n",
       " 50%         7.900000\n",
       " 75%         8.100000\n",
       " max         9.300000\n",
       " Name: Rating, dtype: float64,\n",
       " <AxesSubplot:xlabel='Rating'>)"
      ]
     },
     "execution_count": 21,
     "metadata": {},
     "output_type": "execute_result"
    },
    {
     "data": {
      "image/png": "[encoded data removed]",
      "text/plain": [
       "<Figure size 432x288 with 1 Axes>"
      ]
     },
     "metadata": {
      "needs_background": "light"
     },
     "output_type": "display_data"
    }
   ],
   "source": [
    "df_top1000['Rating'].describe(), sns.boxplot(x = 'Rating', data = df_top1000)"
   ]
  },
  {
   "cell_type": "markdown",
   "id": "58cba831",
   "metadata": {},
   "source": [
    "#### • Gross"
   ]
  },
  {
   "cell_type": "markdown",
   "id": "8b9aa9d0",
   "metadata": {},
   "source": [
    "In column 'Gross Collection', it is obvious that we need to organise it by eliminating the non-numeric characters."
   ]
  },
  {
   "cell_type": "code",
   "execution_count": 22,
   "id": "8f9031f5",
   "metadata": {},
   "outputs": [
    {
     "data": {
      "text/plain": [
       "0     $28.34M\n",
       "1    $134.97M\n",
       "2    $534.86M\n",
       "3    $377.85M\n",
       "4     $96.90M\n",
       "Name: Gross Collection, dtype: object"
      ]
     },
     "execution_count": 22,
     "metadata": {},
     "output_type": "execute_result"
    }
   ],
   "source": [
    "df_top1000['Gross Collection'].head()"
   ]
  },
  {
   "cell_type": "code",
   "execution_count": 23,
   "id": "c01ccdf9",
   "metadata": {},
   "outputs": [],
   "source": [
    "df_top1000['Gross Collection'] = df_top1000['Gross Collection'].str.replace(\"\\$|M\", \"\", regex = True).apply(pd.to_numeric)"
   ]
  },
  {
   "cell_type": "markdown",
   "id": "8ce55c72",
   "metadata": {},
   "source": [
    "The currency of gross is in the US dollar. However, we can not compute the number of it directly because it does not take inflation into account. We have another file which indicates the Consumer Price Index (CPI) in the US each year, and we can use it to calculate gross which can reflect the inflation."
   ]
  },
  {
   "cell_type": "code",
   "execution_count": 24,
   "id": "cca2212a",
   "metadata": {},
   "outputs": [
    {
     "data": {
      "text/html": [
       "<div>\n",
       "<style scoped>\n",
       "    .dataframe tbody tr th:only-of-type {\n",
       "        vertical-align: middle;\n",
       "    }\n",
       "\n",
       "    .dataframe tbody tr th {\n",
       "        vertical-align: top;\n",
       "    }\n",
       "\n",
       "    .dataframe thead th {\n",
       "        text-align: right;\n",
       "    }\n",
       "</style>\n",
       "<table border=\"1\" class=\"dataframe\">\n",
       "  <thead>\n",
       "    <tr style=\"text-align: right;\">\n",
       "      <th></th>\n",
       "      <th>Year</th>\n",
       "      <th>CPI</th>\n",
       "    </tr>\n",
       "  </thead>\n",
       "  <tbody>\n",
       "    <tr>\n",
       "      <th>98</th>\n",
       "      <td>2018</td>\n",
       "      <td>251.11</td>\n",
       "    </tr>\n",
       "    <tr>\n",
       "      <th>99</th>\n",
       "      <td>2019</td>\n",
       "      <td>255.66</td>\n",
       "    </tr>\n",
       "    <tr>\n",
       "      <th>100</th>\n",
       "      <td>2020</td>\n",
       "      <td>258.81</td>\n",
       "    </tr>\n",
       "    <tr>\n",
       "      <th>101</th>\n",
       "      <td>2021</td>\n",
       "      <td>270.97</td>\n",
       "    </tr>\n",
       "    <tr>\n",
       "      <th>102</th>\n",
       "      <td>2022</td>\n",
       "      <td>292.28</td>\n",
       "    </tr>\n",
       "  </tbody>\n",
       "</table>\n",
       "</div>"
      ],
      "text/plain": [
       "     Year     CPI\n",
       "98   2018  251.11\n",
       "99   2019  255.66\n",
       "100  2020  258.81\n",
       "101  2021  270.97\n",
       "102  2022  292.28"
      ]
     },
     "execution_count": 24,
     "metadata": {},
     "output_type": "execute_result"
    }
   ],
   "source": [
    "df_cpi = pd.read_csv('movie_data\\CPI_US.csv')\n",
    "df_cpi.tail()"
   ]
  },
  {
   "cell_type": "markdown",
   "id": "6b73a9fa",
   "metadata": {},
   "source": [
    "We need to compute the gross of each year to the number that can reflect the price in 2022. We can insert another column that stores the gross number after the desired calculation."
   ]
  },
  {
   "cell_type": "code",
   "execution_count": 25,
   "id": "f5f595e6",
   "metadata": {},
   "outputs": [],
   "source": [
    "# merge the movie data frame with the CPI data\n",
    "# and we need to sort the table again because the order changes after merging\n",
    "df_top1000 = pd.merge(df_top1000, df_cpi).sort_values(by = ['Ranking Of Movie']).reset_index(drop = True)\n",
    "\n",
    "# create a new column 'Gross After CPI' which inserted the calculated numbers\n",
    "df_top1000['Gross After CPI'] = (df_top1000['Gross Collection'] * 292.28 / df_top1000['CPI']).round(2)"
   ]
  },
  {
   "cell_type": "markdown",
   "id": "11808eed",
   "metadata": {},
   "source": [
    "Now we can find out that using the gross reflected the inflation, 'Gone with the Wind' made way more money than other movies in the top 1000 movies."
   ]
  },
  {
   "cell_type": "code",
   "execution_count": 26,
   "id": "9827b632",
   "metadata": {},
   "outputs": [
    {
     "data": {
      "text/html": [
       "<div>\n",
       "<style scoped>\n",
       "    .dataframe tbody tr th:only-of-type {\n",
       "        vertical-align: middle;\n",
       "    }\n",
       "\n",
       "    .dataframe tbody tr th {\n",
       "        vertical-align: top;\n",
       "    }\n",
       "\n",
       "    .dataframe thead th {\n",
       "        text-align: right;\n",
       "    }\n",
       "</style>\n",
       "<table border=\"1\" class=\"dataframe\">\n",
       "  <thead>\n",
       "    <tr style=\"text-align: right;\">\n",
       "      <th></th>\n",
       "      <th>Movie Name</th>\n",
       "      <th>Gross Collection</th>\n",
       "      <th>Gross After CPI</th>\n",
       "    </tr>\n",
       "  </thead>\n",
       "  <tbody>\n",
       "    <tr>\n",
       "      <th>200</th>\n",
       "      <td>Gone with the Wind</td>\n",
       "      <td>198.68</td>\n",
       "      <td>4174.71</td>\n",
       "    </tr>\n",
       "    <tr>\n",
       "      <th>997</th>\n",
       "      <td>Snow White and the Seven Dwarfs</td>\n",
       "      <td>184.93</td>\n",
       "      <td>3758.79</td>\n",
       "    </tr>\n",
       "    <tr>\n",
       "      <th>904</th>\n",
       "      <td>Fantasia</td>\n",
       "      <td>76.41</td>\n",
       "      <td>1594.08</td>\n",
       "    </tr>\n",
       "    <tr>\n",
       "      <th>30</th>\n",
       "      <td>Star Wars</td>\n",
       "      <td>322.74</td>\n",
       "      <td>1556.35</td>\n",
       "    </tr>\n",
       "    <tr>\n",
       "      <th>298</th>\n",
       "      <td>The Exorcist</td>\n",
       "      <td>232.91</td>\n",
       "      <td>1533.22</td>\n",
       "    </tr>\n",
       "  </tbody>\n",
       "</table>\n",
       "</div>"
      ],
      "text/plain": [
       "                          Movie Name  Gross Collection  Gross After CPI\n",
       "200               Gone with the Wind            198.68          4174.71\n",
       "997  Snow White and the Seven Dwarfs            184.93          3758.79\n",
       "904                         Fantasia             76.41          1594.08\n",
       "30                         Star Wars            322.74          1556.35\n",
       "298                     The Exorcist            232.91          1533.22"
      ]
     },
     "execution_count": 26,
     "metadata": {},
     "output_type": "execute_result"
    }
   ],
   "source": [
    "# sort from the largest number of 'Gross After CPI'\n",
    "df_top1000.loc[:, ['Movie Name',\n",
    "                   'Gross Collection',\n",
    "                   'Gross After CPI']].sort_values(by = ['Gross After CPI'], ascending = False).head()"
   ]
  },
  {
   "cell_type": "markdown",
   "id": "e824a7f1",
   "metadata": {},
   "source": [
    "And the distribution shows that of the top 1000 movies, half of them made less than 60M USD (reflected in the inflation), and it may be rare for a movie to make more than 200M USD."
   ]
  },
  {
   "cell_type": "code",
   "execution_count": 27,
   "id": "ca5d89ee",
   "metadata": {},
   "outputs": [
    {
     "data": {
      "text/plain": [
       "(count     820.000000\n",
       " mean      157.608890\n",
       " std       296.395793\n",
       " min         0.000000\n",
       " 25%         7.065000\n",
       " 50%        58.065000\n",
       " 75%       193.250000\n",
       " max      4174.710000\n",
       " Name: Gross After CPI, dtype: float64,\n",
       " <AxesSubplot:xlabel='Gross After CPI'>)"
      ]
     },
     "execution_count": 27,
     "metadata": {},
     "output_type": "execute_result"
    },
    {
     "data": {
      "image/png": "[encoded data removed]",
      "text/plain": [
       "<Figure size 432x288 with 1 Axes>"
      ]
     },
     "metadata": {
      "needs_background": "light"
     },
     "output_type": "display_data"
    }
   ],
   "source": [
    "df_top1000['Gross After CPI'].describe(), sns.boxplot(x = 'Gross After CPI', data = df_top1000)"
   ]
  },
  {
   "cell_type": "markdown",
   "id": "0b4f7218",
   "metadata": {},
   "source": [
    "#### • Genres"
   ]
  },
  {
   "cell_type": "markdown",
   "id": "3b67d93e",
   "metadata": {},
   "source": [
    "Column 'Genres' is a little bit tricky, as you can see, there can be several genres in one cell."
   ]
  },
  {
   "cell_type": "code",
   "execution_count": 28,
   "id": "1cd68b5b",
   "metadata": {},
   "outputs": [
    {
     "data": {
      "text/plain": [
       "0                        Drama\n",
       "1                 Crime, Drama\n",
       "2         Action, Crime, Drama\n",
       "3     Action, Adventure, Drama\n",
       "4    Biography, Drama, History\n",
       "Name: Genre, dtype: object"
      ]
     },
     "execution_count": 28,
     "metadata": {},
     "output_type": "execute_result"
    }
   ],
   "source": [
    "df_top1000['Genre'].head()"
   ]
  },
  {
   "cell_type": "markdown",
   "id": "e89975c3",
   "metadata": {},
   "source": [
    "Therefore, first, it is needed to be separated by ','."
   ]
  },
  {
   "cell_type": "code",
   "execution_count": 29,
   "id": "aca2615c",
   "metadata": {},
   "outputs": [
    {
     "data": {
      "text/html": [
       "<div>\n",
       "<style scoped>\n",
       "    .dataframe tbody tr th:only-of-type {\n",
       "        vertical-align: middle;\n",
       "    }\n",
       "\n",
       "    .dataframe tbody tr th {\n",
       "        vertical-align: top;\n",
       "    }\n",
       "\n",
       "    .dataframe thead th {\n",
       "        text-align: right;\n",
       "    }\n",
       "</style>\n",
       "<table border=\"1\" class=\"dataframe\">\n",
       "  <thead>\n",
       "    <tr style=\"text-align: right;\">\n",
       "      <th></th>\n",
       "      <th>0</th>\n",
       "      <th>1</th>\n",
       "      <th>2</th>\n",
       "    </tr>\n",
       "  </thead>\n",
       "  <tbody>\n",
       "    <tr>\n",
       "      <th>0</th>\n",
       "      <td>Drama</td>\n",
       "      <td>None</td>\n",
       "      <td>None</td>\n",
       "    </tr>\n",
       "    <tr>\n",
       "      <th>1</th>\n",
       "      <td>Crime</td>\n",
       "      <td>Drama</td>\n",
       "      <td>None</td>\n",
       "    </tr>\n",
       "    <tr>\n",
       "      <th>2</th>\n",
       "      <td>Action</td>\n",
       "      <td>Crime</td>\n",
       "      <td>Drama</td>\n",
       "    </tr>\n",
       "    <tr>\n",
       "      <th>3</th>\n",
       "      <td>Action</td>\n",
       "      <td>Adventure</td>\n",
       "      <td>Drama</td>\n",
       "    </tr>\n",
       "    <tr>\n",
       "      <th>4</th>\n",
       "      <td>Biography</td>\n",
       "      <td>Drama</td>\n",
       "      <td>History</td>\n",
       "    </tr>\n",
       "  </tbody>\n",
       "</table>\n",
       "</div>"
      ],
      "text/plain": [
       "           0          1        2\n",
       "0      Drama       None     None\n",
       "1      Crime      Drama     None\n",
       "2     Action      Crime    Drama\n",
       "3     Action  Adventure    Drama\n",
       "4  Biography      Drama  History"
      ]
     },
     "execution_count": 29,
     "metadata": {},
     "output_type": "execute_result"
    }
   ],
   "source": [
    "genres_raw = df_top1000['Genre'].str.split(\", \", expand = True).reset_index(drop = True)\n",
    "genres_raw.head()"
   ]
  },
  {
   "cell_type": "markdown",
   "id": "dffbf9f2",
   "metadata": {},
   "source": [
    "Then, we can concatenate the separated columns into one column. As you can see, there are 3000 rows."
   ]
  },
  {
   "cell_type": "code",
   "execution_count": 30,
   "id": "8fe5fe1d",
   "metadata": {},
   "outputs": [
    {
     "data": {
      "text/html": [
       "<div>\n",
       "<style scoped>\n",
       "    .dataframe tbody tr th:only-of-type {\n",
       "        vertical-align: middle;\n",
       "    }\n",
       "\n",
       "    .dataframe tbody tr th {\n",
       "        vertical-align: top;\n",
       "    }\n",
       "\n",
       "    .dataframe thead th {\n",
       "        text-align: right;\n",
       "    }\n",
       "</style>\n",
       "<table border=\"1\" class=\"dataframe\">\n",
       "  <thead>\n",
       "    <tr style=\"text-align: right;\">\n",
       "      <th></th>\n",
       "      <th>Genre</th>\n",
       "    </tr>\n",
       "  </thead>\n",
       "  <tbody>\n",
       "    <tr>\n",
       "      <th>0</th>\n",
       "      <td>Drama</td>\n",
       "    </tr>\n",
       "    <tr>\n",
       "      <th>1</th>\n",
       "      <td>Crime</td>\n",
       "    </tr>\n",
       "    <tr>\n",
       "      <th>2</th>\n",
       "      <td>Action</td>\n",
       "    </tr>\n",
       "    <tr>\n",
       "      <th>3</th>\n",
       "      <td>Action</td>\n",
       "    </tr>\n",
       "    <tr>\n",
       "      <th>4</th>\n",
       "      <td>Biography</td>\n",
       "    </tr>\n",
       "    <tr>\n",
       "      <th>...</th>\n",
       "      <td>...</td>\n",
       "    </tr>\n",
       "    <tr>\n",
       "      <th>2995</th>\n",
       "      <td>Romance</td>\n",
       "    </tr>\n",
       "    <tr>\n",
       "      <th>2996</th>\n",
       "      <td>War</td>\n",
       "    </tr>\n",
       "    <tr>\n",
       "      <th>2997</th>\n",
       "      <td>Family</td>\n",
       "    </tr>\n",
       "    <tr>\n",
       "      <th>2998</th>\n",
       "      <td>Thriller</td>\n",
       "    </tr>\n",
       "    <tr>\n",
       "      <th>2999</th>\n",
       "      <td>None</td>\n",
       "    </tr>\n",
       "  </tbody>\n",
       "</table>\n",
       "<p>3000 rows × 1 columns</p>\n",
       "</div>"
      ],
      "text/plain": [
       "          Genre\n",
       "0         Drama\n",
       "1         Crime\n",
       "2        Action\n",
       "3        Action\n",
       "4     Biography\n",
       "...         ...\n",
       "2995    Romance\n",
       "2996        War\n",
       "2997     Family\n",
       "2998   Thriller\n",
       "2999       None\n",
       "\n",
       "[3000 rows x 1 columns]"
      ]
     },
     "execution_count": 30,
     "metadata": {},
     "output_type": "execute_result"
    }
   ],
   "source": [
    "genres = pd.DataFrame()\n",
    "genres['Genre'] = pd.concat([genres_raw[0], genres_raw[1], genres_raw[2]], ignore_index=True)\n",
    "genres"
   ]
  },
  {
   "cell_type": "markdown",
   "id": "a1fa0016",
   "metadata": {},
   "source": [
    "Now, because we will need to see the rating and gross for each genre, we need to extract the corresponding number for each separated genre. First, we extract the rating for each genre."
   ]
  },
  {
   "cell_type": "code",
   "execution_count": 31,
   "id": "194d8115",
   "metadata": {},
   "outputs": [],
   "source": [
    "# we need to use np.nan later, so numpy is imported here\n",
    "import numpy as np"
   ]
  },
  {
   "cell_type": "code",
   "execution_count": 32,
   "id": "74e799f3",
   "metadata": {},
   "outputs": [
    {
     "data": {
      "text/html": [
       "<div>\n",
       "<style scoped>\n",
       "    .dataframe tbody tr th:only-of-type {\n",
       "        vertical-align: middle;\n",
       "    }\n",
       "\n",
       "    .dataframe tbody tr th {\n",
       "        vertical-align: top;\n",
       "    }\n",
       "\n",
       "    .dataframe thead th {\n",
       "        text-align: right;\n",
       "    }\n",
       "</style>\n",
       "<table border=\"1\" class=\"dataframe\">\n",
       "  <thead>\n",
       "    <tr style=\"text-align: right;\">\n",
       "      <th></th>\n",
       "      <th>0</th>\n",
       "      <th>1</th>\n",
       "      <th>2</th>\n",
       "    </tr>\n",
       "  </thead>\n",
       "  <tbody>\n",
       "    <tr>\n",
       "      <th>0</th>\n",
       "      <td>9.3</td>\n",
       "      <td>NaN</td>\n",
       "      <td>NaN</td>\n",
       "    </tr>\n",
       "    <tr>\n",
       "      <th>1</th>\n",
       "      <td>9.2</td>\n",
       "      <td>9.2</td>\n",
       "      <td>NaN</td>\n",
       "    </tr>\n",
       "    <tr>\n",
       "      <th>2</th>\n",
       "      <td>9.0</td>\n",
       "      <td>9.0</td>\n",
       "      <td>9.0</td>\n",
       "    </tr>\n",
       "    <tr>\n",
       "      <th>3</th>\n",
       "      <td>9.0</td>\n",
       "      <td>9.0</td>\n",
       "      <td>9.0</td>\n",
       "    </tr>\n",
       "    <tr>\n",
       "      <th>4</th>\n",
       "      <td>9.0</td>\n",
       "      <td>9.0</td>\n",
       "      <td>9.0</td>\n",
       "    </tr>\n",
       "  </tbody>\n",
       "</table>\n",
       "</div>"
      ],
      "text/plain": [
       "     0    1    2\n",
       "0  9.3  NaN  NaN\n",
       "1  9.2  9.2  NaN\n",
       "2  9.0  9.0  9.0\n",
       "3  9.0  9.0  9.0\n",
       "4  9.0  9.0  9.0"
      ]
     },
     "execution_count": 32,
     "metadata": {},
     "output_type": "execute_result"
    }
   ],
   "source": [
    "genres_rating_raw = pd.DataFrame()\n",
    "\n",
    "# because the genre is separated into three columns in table 'genres_raw'\n",
    "# here we will iteratively add i till two\n",
    "i = 0\n",
    "while i < 3:\n",
    "    # the corresponding numbers will be put into this list first\n",
    "    rating_list = []\n",
    "    # we will need to specify the row to extract number\n",
    "    # so we set row = 0 here and will iteratively add it later\n",
    "    row = 0\n",
    "    for genre in genres_raw[i]:\n",
    "        # if there is a genre in the cell\n",
    "        # it will insert the corresponding number in column 'Rating'\n",
    "        if genre:\n",
    "            rating_list.append(df_top1000['Rating'][row])\n",
    "        # otherwise it will insert NaN\n",
    "        else:\n",
    "            rating_list.append(np.nan)\n",
    "        # now we can extract the number in the next row\n",
    "        row += 1\n",
    "    # insert the list with the corresponding numbers to the empty table 'genres_rating_raw'\n",
    "    genres_rating_raw.insert(i, i, rating_list)\n",
    "    # now we can do the matching in the next column in table 'genres_raw'\n",
    "    i += 1\n",
    "\n",
    "genres_rating_raw.head()"
   ]
  },
  {
   "cell_type": "markdown",
   "id": "d8abb125",
   "metadata": {},
   "source": [
    "Then we do the same for gross."
   ]
  },
  {
   "cell_type": "code",
   "execution_count": 33,
   "id": "0ac3b516",
   "metadata": {},
   "outputs": [
    {
     "data": {
      "text/html": [
       "<div>\n",
       "<style scoped>\n",
       "    .dataframe tbody tr th:only-of-type {\n",
       "        vertical-align: middle;\n",
       "    }\n",
       "\n",
       "    .dataframe tbody tr th {\n",
       "        vertical-align: top;\n",
       "    }\n",
       "\n",
       "    .dataframe thead th {\n",
       "        text-align: right;\n",
       "    }\n",
       "</style>\n",
       "<table border=\"1\" class=\"dataframe\">\n",
       "  <thead>\n",
       "    <tr style=\"text-align: right;\">\n",
       "      <th></th>\n",
       "      <th>0</th>\n",
       "      <th>1</th>\n",
       "      <th>2</th>\n",
       "    </tr>\n",
       "  </thead>\n",
       "  <tbody>\n",
       "    <tr>\n",
       "      <th>0</th>\n",
       "      <td>55.88</td>\n",
       "      <td>NaN</td>\n",
       "      <td>NaN</td>\n",
       "    </tr>\n",
       "    <tr>\n",
       "      <th>1</th>\n",
       "      <td>943.31</td>\n",
       "      <td>943.31</td>\n",
       "      <td>NaN</td>\n",
       "    </tr>\n",
       "    <tr>\n",
       "      <th>2</th>\n",
       "      <td>726.10</td>\n",
       "      <td>726.10</td>\n",
       "      <td>726.10</td>\n",
       "    </tr>\n",
       "    <tr>\n",
       "      <th>3</th>\n",
       "      <td>600.34</td>\n",
       "      <td>600.34</td>\n",
       "      <td>600.34</td>\n",
       "    </tr>\n",
       "    <tr>\n",
       "      <th>4</th>\n",
       "      <td>196.05</td>\n",
       "      <td>196.05</td>\n",
       "      <td>196.05</td>\n",
       "    </tr>\n",
       "  </tbody>\n",
       "</table>\n",
       "</div>"
      ],
      "text/plain": [
       "        0       1       2\n",
       "0   55.88     NaN     NaN\n",
       "1  943.31  943.31     NaN\n",
       "2  726.10  726.10  726.10\n",
       "3  600.34  600.34  600.34\n",
       "4  196.05  196.05  196.05"
      ]
     },
     "execution_count": 33,
     "metadata": {},
     "output_type": "execute_result"
    }
   ],
   "source": [
    "genres_gross_raw = pd.DataFrame()\n",
    "\n",
    "i = 0\n",
    "while i < 3:\n",
    "    gross_list = []\n",
    "    row = 0\n",
    "    for genre in genres_raw[i]:\n",
    "        if genre:\n",
    "            gross_list.append(df_top1000['Gross After CPI'][row])\n",
    "        else:\n",
    "            gross_list.append(np.nan)\n",
    "        row += 1\n",
    "    genres_gross_raw.insert(i, i, gross_list)\n",
    "    i += 1\n",
    "\n",
    "genres_gross_raw.head()"
   ]
  },
  {
   "cell_type": "markdown",
   "id": "5d530680",
   "metadata": {},
   "source": [
    "Now we just have to combine the corresponding number with the genres column we created before."
   ]
  },
  {
   "cell_type": "code",
   "execution_count": 34,
   "id": "33e46d87",
   "metadata": {},
   "outputs": [
    {
     "data": {
      "text/html": [
       "<div>\n",
       "<style scoped>\n",
       "    .dataframe tbody tr th:only-of-type {\n",
       "        vertical-align: middle;\n",
       "    }\n",
       "\n",
       "    .dataframe tbody tr th {\n",
       "        vertical-align: top;\n",
       "    }\n",
       "\n",
       "    .dataframe thead th {\n",
       "        text-align: right;\n",
       "    }\n",
       "</style>\n",
       "<table border=\"1\" class=\"dataframe\">\n",
       "  <thead>\n",
       "    <tr style=\"text-align: right;\">\n",
       "      <th></th>\n",
       "      <th>Genre</th>\n",
       "      <th>Rating</th>\n",
       "      <th>Gross After CPI</th>\n",
       "    </tr>\n",
       "  </thead>\n",
       "  <tbody>\n",
       "    <tr>\n",
       "      <th>0</th>\n",
       "      <td>Drama</td>\n",
       "      <td>9.3</td>\n",
       "      <td>55.88</td>\n",
       "    </tr>\n",
       "    <tr>\n",
       "      <th>1</th>\n",
       "      <td>Crime</td>\n",
       "      <td>9.2</td>\n",
       "      <td>943.31</td>\n",
       "    </tr>\n",
       "    <tr>\n",
       "      <th>2</th>\n",
       "      <td>Action</td>\n",
       "      <td>9.0</td>\n",
       "      <td>726.10</td>\n",
       "    </tr>\n",
       "    <tr>\n",
       "      <th>3</th>\n",
       "      <td>Action</td>\n",
       "      <td>9.0</td>\n",
       "      <td>600.34</td>\n",
       "    </tr>\n",
       "    <tr>\n",
       "      <th>4</th>\n",
       "      <td>Biography</td>\n",
       "      <td>9.0</td>\n",
       "      <td>196.05</td>\n",
       "    </tr>\n",
       "  </tbody>\n",
       "</table>\n",
       "</div>"
      ],
      "text/plain": [
       "       Genre  Rating  Gross After CPI\n",
       "0      Drama     9.3            55.88\n",
       "1      Crime     9.2           943.31\n",
       "2     Action     9.0           726.10\n",
       "3     Action     9.0           600.34\n",
       "4  Biography     9.0           196.05"
      ]
     },
     "execution_count": 34,
     "metadata": {},
     "output_type": "execute_result"
    }
   ],
   "source": [
    "# insert the column which concatenated the separated columns of 'genres_rating_raw'\n",
    "genres['Rating'] = pd.concat([genres_rating_raw[0],\n",
    "                              genres_rating_raw[1],\n",
    "                              genres_rating_raw[2]], ignore_index=True)\n",
    "\n",
    "# insert the column which concatenated the separated columns of 'genres_gross_raw'\n",
    "genres['Gross After CPI'] = pd.concat([genres_gross_raw[0],\n",
    "                                       genres_gross_raw[1],\n",
    "                                       genres_gross_raw[2]], ignore_index=True)\n",
    "\n",
    "genres.head()"
   ]
  },
  {
   "cell_type": "markdown",
   "id": "8a1c4430",
   "metadata": {},
   "source": [
    "Voilà! we have our table to manipulate. First, we can compute counts and averages grouped by genres."
   ]
  },
  {
   "cell_type": "code",
   "execution_count": 35,
   "id": "c94ab0b3",
   "metadata": {},
   "outputs": [
    {
     "data": {
      "text/html": [
       "<div>\n",
       "<style scoped>\n",
       "    .dataframe tbody tr th:only-of-type {\n",
       "        vertical-align: middle;\n",
       "    }\n",
       "\n",
       "    .dataframe tbody tr th {\n",
       "        vertical-align: top;\n",
       "    }\n",
       "\n",
       "    .dataframe thead th {\n",
       "        text-align: right;\n",
       "    }\n",
       "</style>\n",
       "<table border=\"1\" class=\"dataframe\">\n",
       "  <thead>\n",
       "    <tr style=\"text-align: right;\">\n",
       "      <th></th>\n",
       "      <th>Count</th>\n",
       "      <th>Rating</th>\n",
       "      <th>Gross</th>\n",
       "    </tr>\n",
       "  </thead>\n",
       "  <tbody>\n",
       "    <tr>\n",
       "      <th>Drama</th>\n",
       "      <td>730</td>\n",
       "      <td>7.97</td>\n",
       "      <td>112.86</td>\n",
       "    </tr>\n",
       "    <tr>\n",
       "      <th>Comedy</th>\n",
       "      <td>237</td>\n",
       "      <td>7.91</td>\n",
       "      <td>142.29</td>\n",
       "    </tr>\n",
       "    <tr>\n",
       "      <th>Crime</th>\n",
       "      <td>207</td>\n",
       "      <td>7.98</td>\n",
       "      <td>94.90</td>\n",
       "    </tr>\n",
       "    <tr>\n",
       "      <th>Action</th>\n",
       "      <td>200</td>\n",
       "      <td>7.97</td>\n",
       "      <td>241.57</td>\n",
       "    </tr>\n",
       "    <tr>\n",
       "      <th>Adventure</th>\n",
       "      <td>190</td>\n",
       "      <td>7.97</td>\n",
       "      <td>339.83</td>\n",
       "    </tr>\n",
       "  </tbody>\n",
       "</table>\n",
       "</div>"
      ],
      "text/plain": [
       "           Count  Rating   Gross\n",
       "Drama        730    7.97  112.86\n",
       "Comedy       237    7.91  142.29\n",
       "Crime        207    7.98   94.90\n",
       "Action       200    7.97  241.57\n",
       "Adventure    190    7.97  339.83"
      ]
     },
     "execution_count": 35,
     "metadata": {},
     "output_type": "execute_result"
    }
   ],
   "source": [
    "# computed the desired numbers which are grouped by genres\n",
    "genres_counts = genres['Genre'].value_counts()\n",
    "genres_rating = genres.groupby('Genre')['Rating'].mean().round(2)\n",
    "genres_gross = genres.groupby('Genre')['Gross After CPI'].mean().round(2)\n",
    "\n",
    "# create a table to store the computed numbers\n",
    "df_genre = pd.concat([genres_counts,\n",
    "                      genres_rating,\n",
    "                      genres_gross], axis = 1, keys = ['Count', 'Rating', 'Gross'])\n",
    "\n",
    "df_genre.head()"
   ]
  },
  {
   "cell_type": "markdown",
   "id": "20130b10",
   "metadata": {},
   "source": [
    "There are 21 distinct genres in the dataset. By sorting, we can find out that most movies are in the genre of drama, war movies have a better average rating, and family movies earned the most money on average."
   ]
  },
  {
   "cell_type": "code",
   "execution_count": 36,
   "id": "c8e12b54",
   "metadata": {},
   "outputs": [
    {
     "data": {
      "text/plain": [
       "21"
      ]
     },
     "execution_count": 36,
     "metadata": {},
     "output_type": "execute_result"
    }
   ],
   "source": [
    "# number of distinct genres\n",
    "len(df_genre.index)"
   ]
  },
  {
   "cell_type": "code",
   "execution_count": 37,
   "id": "8f89b056",
   "metadata": {},
   "outputs": [
    {
     "data": {
      "text/plain": [
       "Drama        730\n",
       "Comedy       237\n",
       "Crime        207\n",
       "Action       200\n",
       "Adventure    190\n",
       "Name: Count, dtype: int64"
      ]
     },
     "execution_count": 37,
     "metadata": {},
     "output_type": "execute_result"
    }
   ],
   "source": [
    "# sort by count\n",
    "df_genre['Count'].sort_values(ascending = False).head()"
   ]
  },
  {
   "cell_type": "code",
   "execution_count": 38,
   "id": "91fb4136",
   "metadata": {},
   "outputs": [
    {
     "data": {
      "text/plain": [
       "War          8.05\n",
       "Western      8.03\n",
       "Film-Noir    7.99\n",
       "Mystery      7.99\n",
       "Crime        7.98\n",
       "Name: Rating, dtype: float64"
      ]
     },
     "execution_count": 38,
     "metadata": {},
     "output_type": "execute_result"
    }
   ],
   "source": [
    "# sort by rating\n",
    "df_genre['Rating'].sort_values(ascending = False).head()"
   ]
  },
  {
   "cell_type": "code",
   "execution_count": 39,
   "id": "c8c33552",
   "metadata": {},
   "outputs": [
    {
     "data": {
      "text/plain": [
       "Family       387.53\n",
       "Adventure    339.83\n",
       "Animation    283.77\n",
       "Fantasy      275.62\n",
       "War          274.02\n",
       "Name: Gross, dtype: float64"
      ]
     },
     "execution_count": 39,
     "metadata": {},
     "output_type": "execute_result"
    }
   ],
   "source": [
    "# sort by gross\n",
    "df_genre['Gross'].sort_values(ascending = False).head()"
   ]
  },
  {
   "cell_type": "markdown",
   "id": "61585b96",
   "metadata": {},
   "source": [
    "#### • Directors"
   ]
  },
  {
   "cell_type": "markdown",
   "id": "f5b24b97",
   "metadata": {},
   "source": [
    "Every cell of the column 'Director' only contains one item, so we can compute what we want straightforwardly."
   ]
  },
  {
   "cell_type": "code",
   "execution_count": 40,
   "id": "a708e8b8",
   "metadata": {},
   "outputs": [
    {
     "data": {
      "text/plain": [
       "0          Frank Darabont\n",
       "1    Francis Ford Coppola\n",
       "2       Christopher Nolan\n",
       "3           Peter Jackson\n",
       "4        Steven Spielberg\n",
       "Name: Director, dtype: object"
      ]
     },
     "execution_count": 40,
     "metadata": {},
     "output_type": "execute_result"
    }
   ],
   "source": [
    "df_top1000['Director'].head()"
   ]
  },
  {
   "cell_type": "code",
   "execution_count": 41,
   "id": "da37bc2e",
   "metadata": {},
   "outputs": [
    {
     "data": {
      "text/html": [
       "<div>\n",
       "<style scoped>\n",
       "    .dataframe tbody tr th:only-of-type {\n",
       "        vertical-align: middle;\n",
       "    }\n",
       "\n",
       "    .dataframe tbody tr th {\n",
       "        vertical-align: top;\n",
       "    }\n",
       "\n",
       "    .dataframe thead th {\n",
       "        text-align: right;\n",
       "    }\n",
       "</style>\n",
       "<table border=\"1\" class=\"dataframe\">\n",
       "  <thead>\n",
       "    <tr style=\"text-align: right;\">\n",
       "      <th></th>\n",
       "      <th>Count</th>\n",
       "      <th>Rating</th>\n",
       "      <th>Gross</th>\n",
       "    </tr>\n",
       "  </thead>\n",
       "  <tbody>\n",
       "    <tr>\n",
       "      <th>Alfred Hitchcock</th>\n",
       "      <td>13</td>\n",
       "      <td>8.03</td>\n",
       "      <td>147.14</td>\n",
       "    </tr>\n",
       "    <tr>\n",
       "      <th>Steven Spielberg</th>\n",
       "      <td>13</td>\n",
       "      <td>8.06</td>\n",
       "      <td>532.61</td>\n",
       "    </tr>\n",
       "    <tr>\n",
       "      <th>Akira Kurosawa</th>\n",
       "      <td>12</td>\n",
       "      <td>8.16</td>\n",
       "      <td>4.09</td>\n",
       "    </tr>\n",
       "    <tr>\n",
       "      <th>Hayao Miyazaki</th>\n",
       "      <td>10</td>\n",
       "      <td>8.01</td>\n",
       "      <td>8.49</td>\n",
       "    </tr>\n",
       "    <tr>\n",
       "      <th>Martin Scorsese</th>\n",
       "      <td>10</td>\n",
       "      <td>8.14</td>\n",
       "      <td>96.88</td>\n",
       "    </tr>\n",
       "  </tbody>\n",
       "</table>\n",
       "</div>"
      ],
      "text/plain": [
       "                  Count  Rating   Gross\n",
       "Alfred Hitchcock     13    8.03  147.14\n",
       "Steven Spielberg     13    8.06  532.61\n",
       "Akira Kurosawa       12    8.16    4.09\n",
       "Hayao Miyazaki       10    8.01    8.49\n",
       "Martin Scorsese      10    8.14   96.88"
      ]
     },
     "execution_count": 41,
     "metadata": {},
     "output_type": "execute_result"
    }
   ],
   "source": [
    "# compute counts and averages and create a table to show the result\n",
    "director_counts = df_top1000['Director'].value_counts()\n",
    "director_rating = df_top1000.groupby('Director')['Rating'].mean().round(2)\n",
    "director_gross = df_top1000.groupby('Director')['Gross After CPI'].mean().round(2)\n",
    "df_director = pd.concat([director_counts,\n",
    "                         director_rating,\n",
    "                         director_gross], axis = 1, keys = ['Count', 'Rating', 'Gross'])\n",
    "df_director.head()"
   ]
  },
  {
   "cell_type": "markdown",
   "id": "ee973e7d",
   "metadata": {},
   "source": [
    "There are 554 distinct directors in the dataset. Alfred Hitchcock has the most movie in the top 1000, Frank Darabont has the highest average rating, and William Cottrell's movies earned the most on average."
   ]
  },
  {
   "cell_type": "code",
   "execution_count": 42,
   "id": "4aa9b29e",
   "metadata": {},
   "outputs": [
    {
     "data": {
      "text/plain": [
       "554"
      ]
     },
     "execution_count": 42,
     "metadata": {},
     "output_type": "execute_result"
    }
   ],
   "source": [
    "# number of distinct directors\n",
    "len(df_director.index)"
   ]
  },
  {
   "cell_type": "code",
   "execution_count": 43,
   "id": "7d08f4c0",
   "metadata": {},
   "outputs": [
    {
     "data": {
      "text/plain": [
       "Alfred Hitchcock    13\n",
       "Steven Spielberg    13\n",
       "Akira Kurosawa      12\n",
       "Hayao Miyazaki      10\n",
       "Martin Scorsese     10\n",
       "Name: Count, dtype: int64"
      ]
     },
     "execution_count": 43,
     "metadata": {},
     "output_type": "execute_result"
    }
   ],
   "source": [
    "# sort by count\n",
    "df_director['Count'].sort_values(ascending = False).head()"
   ]
  },
  {
   "cell_type": "code",
   "execution_count": 44,
   "id": "fd95b845",
   "metadata": {},
   "outputs": [
    {
     "data": {
      "text/plain": [
       "Frank Darabont    8.95\n",
       "T.J. Gnanavel     8.90\n",
       "Lana Wachowski    8.70\n",
       "Sudha Kongara     8.70\n",
       "Irvin Kershner    8.70\n",
       "Name: Rating, dtype: float64"
      ]
     },
     "execution_count": 44,
     "metadata": {},
     "output_type": "execute_result"
    }
   ],
   "source": [
    "# sort by rating\n",
    "df_director['Rating'].sort_values(ascending = False).head()"
   ]
  },
  {
   "cell_type": "code",
   "execution_count": 45,
   "id": "227d8038",
   "metadata": {},
   "outputs": [
    {
     "data": {
      "text/plain": [
       "William Cottrell       3758.79\n",
       "Victor Fleming         2109.21\n",
       "James Algar            1594.08\n",
       "Robert Wise            1513.90\n",
       "Wolfgang Reitherman    1242.72\n",
       "Name: Gross, dtype: float64"
      ]
     },
     "execution_count": 45,
     "metadata": {},
     "output_type": "execute_result"
    }
   ],
   "source": [
    "# sort by gross\n",
    "df_director['Gross'].sort_values(ascending = False).head()"
   ]
  },
  {
   "cell_type": "markdown",
   "id": "0911d819",
   "metadata": {},
   "source": [
    "#### • Actors"
   ]
  },
  {
   "cell_type": "markdown",
   "id": "19316ee9",
   "metadata": {},
   "source": [
    "The way this dataset shows the actors in each movie is also tricky, it is separated into four columns."
   ]
  },
  {
   "cell_type": "code",
   "execution_count": 46,
   "id": "83ea7c55",
   "metadata": {},
   "outputs": [
    {
     "data": {
      "text/html": [
       "<div>\n",
       "<style scoped>\n",
       "    .dataframe tbody tr th:only-of-type {\n",
       "        vertical-align: middle;\n",
       "    }\n",
       "\n",
       "    .dataframe tbody tr th {\n",
       "        vertical-align: top;\n",
       "    }\n",
       "\n",
       "    .dataframe thead th {\n",
       "        text-align: right;\n",
       "    }\n",
       "</style>\n",
       "<table border=\"1\" class=\"dataframe\">\n",
       "  <thead>\n",
       "    <tr style=\"text-align: right;\">\n",
       "      <th></th>\n",
       "      <th>Actor 1</th>\n",
       "      <th>Actor 2</th>\n",
       "      <th>Actor 3</th>\n",
       "      <th>Actor 4</th>\n",
       "    </tr>\n",
       "  </thead>\n",
       "  <tbody>\n",
       "    <tr>\n",
       "      <th>0</th>\n",
       "      <td>Tim Robbins</td>\n",
       "      <td>Morgan Freeman</td>\n",
       "      <td>Bob Gunton</td>\n",
       "      <td>William Sadler</td>\n",
       "    </tr>\n",
       "    <tr>\n",
       "      <th>1</th>\n",
       "      <td>Marlon Brando</td>\n",
       "      <td>Al Pacino</td>\n",
       "      <td>James Caan</td>\n",
       "      <td>Diane Keaton</td>\n",
       "    </tr>\n",
       "    <tr>\n",
       "      <th>2</th>\n",
       "      <td>Christian Bale</td>\n",
       "      <td>Heath Ledger</td>\n",
       "      <td>Aaron Eckhart</td>\n",
       "      <td>Michael Caine</td>\n",
       "    </tr>\n",
       "    <tr>\n",
       "      <th>3</th>\n",
       "      <td>Elijah Wood</td>\n",
       "      <td>Viggo Mortensen</td>\n",
       "      <td>Ian McKellen</td>\n",
       "      <td>Orlando Bloom</td>\n",
       "    </tr>\n",
       "    <tr>\n",
       "      <th>4</th>\n",
       "      <td>Liam Neeson</td>\n",
       "      <td>Ralph Fiennes</td>\n",
       "      <td>Ben Kingsley</td>\n",
       "      <td>Caroline Goodall</td>\n",
       "    </tr>\n",
       "  </tbody>\n",
       "</table>\n",
       "</div>"
      ],
      "text/plain": [
       "          Actor 1          Actor 2        Actor 3           Actor 4\n",
       "0     Tim Robbins   Morgan Freeman     Bob Gunton    William Sadler\n",
       "1   Marlon Brando        Al Pacino     James Caan      Diane Keaton\n",
       "2  Christian Bale     Heath Ledger  Aaron Eckhart     Michael Caine\n",
       "3     Elijah Wood  Viggo Mortensen   Ian McKellen     Orlando Bloom\n",
       "4     Liam Neeson    Ralph Fiennes   Ben Kingsley  Caroline Goodall"
      ]
     },
     "execution_count": 46,
     "metadata": {},
     "output_type": "execute_result"
    }
   ],
   "source": [
    "actors_raw = df_top1000.loc[:, ['Actor 1', 'Actor 2', 'Actor 3', 'Actor 4']]\n",
    "actors_raw.head()"
   ]
  },
  {
   "cell_type": "markdown",
   "id": "891c329f",
   "metadata": {},
   "source": [
    "So we have to do the same thing as what we have done for genres, which is making a long column of actors and extracting the corresponding number for each actor."
   ]
  },
  {
   "cell_type": "code",
   "execution_count": 47,
   "id": "19c739f9",
   "metadata": {},
   "outputs": [
    {
     "data": {
      "text/html": [
       "<div>\n",
       "<style scoped>\n",
       "    .dataframe tbody tr th:only-of-type {\n",
       "        vertical-align: middle;\n",
       "    }\n",
       "\n",
       "    .dataframe tbody tr th {\n",
       "        vertical-align: top;\n",
       "    }\n",
       "\n",
       "    .dataframe thead th {\n",
       "        text-align: right;\n",
       "    }\n",
       "</style>\n",
       "<table border=\"1\" class=\"dataframe\">\n",
       "  <thead>\n",
       "    <tr style=\"text-align: right;\">\n",
       "      <th></th>\n",
       "      <th>Actor</th>\n",
       "      <th>Rating</th>\n",
       "      <th>Gross After CPI</th>\n",
       "    </tr>\n",
       "  </thead>\n",
       "  <tbody>\n",
       "    <tr>\n",
       "      <th>0</th>\n",
       "      <td>Tim Robbins</td>\n",
       "      <td>9.3</td>\n",
       "      <td>55.88</td>\n",
       "    </tr>\n",
       "    <tr>\n",
       "      <th>1</th>\n",
       "      <td>Marlon Brando</td>\n",
       "      <td>9.2</td>\n",
       "      <td>943.31</td>\n",
       "    </tr>\n",
       "    <tr>\n",
       "      <th>2</th>\n",
       "      <td>Christian Bale</td>\n",
       "      <td>9.0</td>\n",
       "      <td>726.10</td>\n",
       "    </tr>\n",
       "    <tr>\n",
       "      <th>3</th>\n",
       "      <td>Elijah Wood</td>\n",
       "      <td>9.0</td>\n",
       "      <td>600.34</td>\n",
       "    </tr>\n",
       "    <tr>\n",
       "      <th>4</th>\n",
       "      <td>Liam Neeson</td>\n",
       "      <td>9.0</td>\n",
       "      <td>196.05</td>\n",
       "    </tr>\n",
       "  </tbody>\n",
       "</table>\n",
       "</div>"
      ],
      "text/plain": [
       "            Actor  Rating  Gross After CPI\n",
       "0     Tim Robbins     9.3            55.88\n",
       "1   Marlon Brando     9.2           943.31\n",
       "2  Christian Bale     9.0           726.10\n",
       "3     Elijah Wood     9.0           600.34\n",
       "4     Liam Neeson     9.0           196.05"
      ]
     },
     "execution_count": 47,
     "metadata": {},
     "output_type": "execute_result"
    }
   ],
   "source": [
    "actors = pd.DataFrame()\n",
    "\n",
    "# make the long column for actors\n",
    "actors['Actor'] = pd.concat([actors_raw['Actor 1'],\n",
    "                             actors_raw['Actor 2'],\n",
    "                             actors_raw['Actor 3'],\n",
    "                             actors_raw['Actor 4']], ignore_index=True)\n",
    "\n",
    "# extract rating that each actor has (which is connected to the movie he/she was in)\n",
    "# the way to extract it is the same as we did in the genre section\n",
    "actors_rating_raw = pd.DataFrame()\n",
    "i = 1\n",
    "while i < 5:\n",
    "    rating_list = []\n",
    "    row = 0\n",
    "    for genre in actors_raw['Actor ' + str(i)]:\n",
    "        if genre:\n",
    "            rating_list.append(df_top1000['Rating'][row])\n",
    "        else:\n",
    "            rating_list.append(np.nan)\n",
    "        row += 1\n",
    "    actors_rating_raw.insert(i - 1, i - 1, rating_list)\n",
    "    i += 1\n",
    "\n",
    "# extract gross that each actor has (which is connected to the movie he/she was in)\n",
    "# the way to extract it is the same as we did in the genre section\n",
    "actors_gross_raw = pd.DataFrame()\n",
    "i = 1\n",
    "while i < 5:\n",
    "    gross_list = []\n",
    "    row = 0\n",
    "    for genre in actors_raw['Actor ' + str(i)]:\n",
    "        if genre:\n",
    "            gross_list.append(df_top1000['Gross After CPI'][row])\n",
    "        else:\n",
    "            gross_list.append(np.nan)\n",
    "        row += 1\n",
    "    actors_gross_raw.insert(i - 1, i - 1, gross_list)\n",
    "    i += 1\n",
    "\n",
    "# insert the column which concatenated the separated columns\n",
    "actors['Rating'] = pd.concat([actors_rating_raw[0],\n",
    "                              actors_rating_raw[1],\n",
    "                              actors_rating_raw[2],\n",
    "                              actors_rating_raw[3]], ignore_index=True)\n",
    "actors['Gross After CPI'] = pd.concat([actors_gross_raw[0],\n",
    "                                       actors_gross_raw[1],\n",
    "                                       actors_gross_raw[2],\n",
    "                                       actors_gross_raw[3]], ignore_index=True)\n",
    "\n",
    "actors.head()"
   ]
  },
  {
   "cell_type": "markdown",
   "id": "a65334f6",
   "metadata": {},
   "source": [
    "Now we can compute numbers grouped by actors."
   ]
  },
  {
   "cell_type": "code",
   "execution_count": 48,
   "id": "0c32fb46",
   "metadata": {},
   "outputs": [
    {
     "data": {
      "text/html": [
       "<div>\n",
       "<style scoped>\n",
       "    .dataframe tbody tr th:only-of-type {\n",
       "        vertical-align: middle;\n",
       "    }\n",
       "\n",
       "    .dataframe tbody tr th {\n",
       "        vertical-align: top;\n",
       "    }\n",
       "\n",
       "    .dataframe thead th {\n",
       "        text-align: right;\n",
       "    }\n",
       "</style>\n",
       "<table border=\"1\" class=\"dataframe\">\n",
       "  <thead>\n",
       "    <tr style=\"text-align: right;\">\n",
       "      <th></th>\n",
       "      <th>Count</th>\n",
       "      <th>Rating</th>\n",
       "      <th>Gross</th>\n",
       "    </tr>\n",
       "  </thead>\n",
       "  <tbody>\n",
       "    <tr>\n",
       "      <th>Robert De Niro</th>\n",
       "      <td>16</td>\n",
       "      <td>8.13</td>\n",
       "      <td>128.72</td>\n",
       "    </tr>\n",
       "    <tr>\n",
       "      <th>Tom Hanks</th>\n",
       "      <td>14</td>\n",
       "      <td>8.04</td>\n",
       "      <td>334.17</td>\n",
       "    </tr>\n",
       "    <tr>\n",
       "      <th>Al Pacino</th>\n",
       "      <td>13</td>\n",
       "      <td>8.08</td>\n",
       "      <td>194.49</td>\n",
       "    </tr>\n",
       "    <tr>\n",
       "      <th>Brad Pitt</th>\n",
       "      <td>11</td>\n",
       "      <td>8.05</td>\n",
       "      <td>134.28</td>\n",
       "    </tr>\n",
       "    <tr>\n",
       "      <th>Leonardo DiCaprio</th>\n",
       "      <td>11</td>\n",
       "      <td>8.13</td>\n",
       "      <td>278.97</td>\n",
       "    </tr>\n",
       "  </tbody>\n",
       "</table>\n",
       "</div>"
      ],
      "text/plain": [
       "                   Count  Rating   Gross\n",
       "Robert De Niro        16    8.13  128.72\n",
       "Tom Hanks             14    8.04  334.17\n",
       "Al Pacino             13    8.08  194.49\n",
       "Brad Pitt             11    8.05  134.28\n",
       "Leonardo DiCaprio     11    8.13  278.97"
      ]
     },
     "execution_count": 48,
     "metadata": {},
     "output_type": "execute_result"
    }
   ],
   "source": [
    "# compute numbers and create a table to store them\n",
    "actors_counts = actors['Actor'].value_counts()\n",
    "actors_rating = actors.groupby('Actor')['Rating'].mean().round(2)\n",
    "actors_gross = actors.groupby('Actor')['Gross After CPI'].mean().round(2)\n",
    "df_actor = pd.concat([actors_counts,\n",
    "                      actors_rating,\n",
    "                      actors_gross], axis = 1, keys = ['Count', 'Rating', 'Gross'])\n",
    "df_actor.head()"
   ]
  },
  {
   "cell_type": "markdown",
   "id": "ac36fff0",
   "metadata": {},
   "source": [
    "There are 2710 distinct actors/actresses in this dataset. Robert De Niro participated in the most movies in the top 1000, Bob Gunton's movies have the highest average rating, and Sam Wood's movies have earned the most on average."
   ]
  },
  {
   "cell_type": "code",
   "execution_count": 49,
   "id": "583a6661",
   "metadata": {},
   "outputs": [
    {
     "data": {
      "text/plain": [
       "2710"
      ]
     },
     "execution_count": 49,
     "metadata": {},
     "output_type": "execute_result"
    }
   ],
   "source": [
    "# distinct number of actors\n",
    "len(df_actor.index)"
   ]
  },
  {
   "cell_type": "code",
   "execution_count": 50,
   "id": "bcdb117c",
   "metadata": {},
   "outputs": [
    {
     "data": {
      "text/plain": [
       "Robert De Niro       16\n",
       "Tom Hanks            14\n",
       "Al Pacino            13\n",
       "Brad Pitt            11\n",
       "Leonardo DiCaprio    11\n",
       "Name: Count, dtype: int64"
      ]
     },
     "execution_count": 50,
     "metadata": {},
     "output_type": "execute_result"
    }
   ],
   "source": [
    "# sort by count\n",
    "df_actor['Count'].sort_values(ascending = False).head()"
   ]
  },
  {
   "cell_type": "code",
   "execution_count": 51,
   "id": "b50df4b3",
   "metadata": {},
   "outputs": [
    {
     "data": {
      "text/plain": [
       "Bob Gunton          9.3\n",
       "William Sadler      9.3\n",
       "Aaron Eckhart       9.0\n",
       "Caroline Goodall    9.0\n",
       "John Travolta       8.9\n",
       "Name: Rating, dtype: float64"
      ]
     },
     "execution_count": 51,
     "metadata": {},
     "output_type": "execute_result"
    }
   ],
   "source": [
    "# sort by rating\n",
    "df_actor['Rating'].sort_values(ascending = False).head()"
   ]
  },
  {
   "cell_type": "code",
   "execution_count": 52,
   "id": "7b2e4400",
   "metadata": {},
   "outputs": [
    {
     "data": {
      "text/plain": [
       "Sam Wood           4174.71\n",
       "Perce Pearce       3758.79\n",
       "Wilfred Jackson    3758.79\n",
       "Larry Morey        3758.79\n",
       "David Hand         2676.44\n",
       "Name: Gross, dtype: float64"
      ]
     },
     "execution_count": 52,
     "metadata": {},
     "output_type": "execute_result"
    }
   ],
   "source": [
    "# sort by gross\n",
    "df_actor['Gross'].sort_values(ascending = False).head()"
   ]
  },
  {
   "cell_type": "markdown",
   "id": "db9247b4",
   "metadata": {},
   "source": [
    "### 1-2. Cross-Tabulation Analysis"
   ]
  },
  {
   "cell_type": "markdown",
   "id": "5c1f7fb7",
   "metadata": {},
   "source": [
    "Does the genre of movies change over time? To answer this, we can perform a cross-tabulation analysis between two categorical factors: Genre and Period."
   ]
  },
  {
   "cell_type": "markdown",
   "id": "10dba3d4",
   "metadata": {},
   "source": [
    "#### • Genre X Period"
   ]
  },
  {
   "cell_type": "markdown",
   "id": "fd951996",
   "metadata": {},
   "source": [
    "As mentioned before, the genre column is adjusted so we can properly analyse it. To see the relationship between period and genre, we also need to match the corresponding period for each genre first."
   ]
  },
  {
   "cell_type": "code",
   "execution_count": 53,
   "id": "d5c57861",
   "metadata": {},
   "outputs": [
    {
     "data": {
      "text/html": [
       "<div>\n",
       "<style scoped>\n",
       "    .dataframe tbody tr th:only-of-type {\n",
       "        vertical-align: middle;\n",
       "    }\n",
       "\n",
       "    .dataframe tbody tr th {\n",
       "        vertical-align: top;\n",
       "    }\n",
       "\n",
       "    .dataframe thead th {\n",
       "        text-align: right;\n",
       "    }\n",
       "</style>\n",
       "<table border=\"1\" class=\"dataframe\">\n",
       "  <thead>\n",
       "    <tr style=\"text-align: right;\">\n",
       "      <th></th>\n",
       "      <th>Genre</th>\n",
       "      <th>Period</th>\n",
       "    </tr>\n",
       "  </thead>\n",
       "  <tbody>\n",
       "    <tr>\n",
       "      <th>0</th>\n",
       "      <td>Drama</td>\n",
       "      <td>1990s</td>\n",
       "    </tr>\n",
       "    <tr>\n",
       "      <th>1</th>\n",
       "      <td>Crime</td>\n",
       "      <td>1970s</td>\n",
       "    </tr>\n",
       "    <tr>\n",
       "      <th>2</th>\n",
       "      <td>Action</td>\n",
       "      <td>2000s</td>\n",
       "    </tr>\n",
       "    <tr>\n",
       "      <th>3</th>\n",
       "      <td>Action</td>\n",
       "      <td>2000s</td>\n",
       "    </tr>\n",
       "    <tr>\n",
       "      <th>4</th>\n",
       "      <td>Biography</td>\n",
       "      <td>1990s</td>\n",
       "    </tr>\n",
       "  </tbody>\n",
       "</table>\n",
       "</div>"
      ],
      "text/plain": [
       "       Genre Period\n",
       "0      Drama  1990s\n",
       "1      Crime  1970s\n",
       "2     Action  2000s\n",
       "3     Action  2000s\n",
       "4  Biography  1990s"
      ]
     },
     "execution_count": 53,
     "metadata": {},
     "output_type": "execute_result"
    }
   ],
   "source": [
    "# the extracting method is the same as in the genre section in the previous\n",
    "genres_period = pd.DataFrame()\n",
    "genres_period['Genre'] = genres.loc[:, 'Genre']\n",
    "genres_period_raw = pd.DataFrame()\n",
    "\n",
    "i = 0\n",
    "while i < 3:\n",
    "    period_list = []\n",
    "    row = 0\n",
    "    for genre in genres_raw[i]:\n",
    "        if genre:\n",
    "            period_list.append(df_top1000['Period'][row])\n",
    "        else:\n",
    "            period_list.append(np.nan)\n",
    "        row += 1\n",
    "    genres_period_raw.insert(i, i, period_list)\n",
    "    i += 1\n",
    "\n",
    "genres_period['Period'] = pd.concat([genres_period_raw[0], genres_period_raw[1], genres_period_raw[2]], ignore_index=True)\n",
    "\n",
    "genres_period.head()"
   ]
  },
  {
   "cell_type": "markdown",
   "id": "c749dd5e",
   "metadata": {},
   "source": [
    "Now we have the period for each genre, we can create the cross table."
   ]
  },
  {
   "cell_type": "code",
   "execution_count": 54,
   "id": "3c3425cb",
   "metadata": {},
   "outputs": [
    {
     "data": {
      "text/html": [
       "<div>\n",
       "<style scoped>\n",
       "    .dataframe tbody tr th:only-of-type {\n",
       "        vertical-align: middle;\n",
       "    }\n",
       "\n",
       "    .dataframe tbody tr th {\n",
       "        vertical-align: top;\n",
       "    }\n",
       "\n",
       "    .dataframe thead th {\n",
       "        text-align: right;\n",
       "    }\n",
       "</style>\n",
       "<table border=\"1\" class=\"dataframe\">\n",
       "  <thead>\n",
       "    <tr style=\"text-align: right;\">\n",
       "      <th>Period</th>\n",
       "      <th>1920s</th>\n",
       "      <th>1930s</th>\n",
       "      <th>1940s</th>\n",
       "      <th>1950s</th>\n",
       "      <th>1960s</th>\n",
       "      <th>1970s</th>\n",
       "      <th>1980s</th>\n",
       "      <th>1990s</th>\n",
       "      <th>2000s</th>\n",
       "      <th>2010s</th>\n",
       "      <th>2020s</th>\n",
       "      <th>All</th>\n",
       "    </tr>\n",
       "    <tr>\n",
       "      <th>Genre</th>\n",
       "      <th></th>\n",
       "      <th></th>\n",
       "      <th></th>\n",
       "      <th></th>\n",
       "      <th></th>\n",
       "      <th></th>\n",
       "      <th></th>\n",
       "      <th></th>\n",
       "      <th></th>\n",
       "      <th></th>\n",
       "      <th></th>\n",
       "      <th></th>\n",
       "    </tr>\n",
       "  </thead>\n",
       "  <tbody>\n",
       "    <tr>\n",
       "      <th>All</th>\n",
       "      <td>30</td>\n",
       "      <td>66</td>\n",
       "      <td>103</td>\n",
       "      <td>136</td>\n",
       "      <td>180</td>\n",
       "      <td>160</td>\n",
       "      <td>220</td>\n",
       "      <td>357</td>\n",
       "      <td>599</td>\n",
       "      <td>624</td>\n",
       "      <td>63</td>\n",
       "      <td>2538</td>\n",
       "    </tr>\n",
       "    <tr>\n",
       "      <th>Drama</th>\n",
       "      <td>6</td>\n",
       "      <td>13</td>\n",
       "      <td>28</td>\n",
       "      <td>50</td>\n",
       "      <td>55</td>\n",
       "      <td>45</td>\n",
       "      <td>54</td>\n",
       "      <td>111</td>\n",
       "      <td>179</td>\n",
       "      <td>173</td>\n",
       "      <td>16</td>\n",
       "      <td>730</td>\n",
       "    </tr>\n",
       "    <tr>\n",
       "      <th>Comedy</th>\n",
       "      <td>5</td>\n",
       "      <td>10</td>\n",
       "      <td>10</td>\n",
       "      <td>7</td>\n",
       "      <td>10</td>\n",
       "      <td>15</td>\n",
       "      <td>27</td>\n",
       "      <td>36</td>\n",
       "      <td>47</td>\n",
       "      <td>64</td>\n",
       "      <td>6</td>\n",
       "      <td>237</td>\n",
       "    </tr>\n",
       "    <tr>\n",
       "      <th>Crime</th>\n",
       "      <td>0</td>\n",
       "      <td>3</td>\n",
       "      <td>11</td>\n",
       "      <td>14</td>\n",
       "      <td>9</td>\n",
       "      <td>15</td>\n",
       "      <td>13</td>\n",
       "      <td>40</td>\n",
       "      <td>53</td>\n",
       "      <td>44</td>\n",
       "      <td>5</td>\n",
       "      <td>207</td>\n",
       "    </tr>\n",
       "    <tr>\n",
       "      <th>Action</th>\n",
       "      <td>2</td>\n",
       "      <td>2</td>\n",
       "      <td>2</td>\n",
       "      <td>3</td>\n",
       "      <td>11</td>\n",
       "      <td>8</td>\n",
       "      <td>19</td>\n",
       "      <td>22</td>\n",
       "      <td>53</td>\n",
       "      <td>68</td>\n",
       "      <td>10</td>\n",
       "      <td>200</td>\n",
       "    </tr>\n",
       "    <tr>\n",
       "      <th>Adventure</th>\n",
       "      <td>2</td>\n",
       "      <td>5</td>\n",
       "      <td>3</td>\n",
       "      <td>8</td>\n",
       "      <td>12</td>\n",
       "      <td>10</td>\n",
       "      <td>23</td>\n",
       "      <td>16</td>\n",
       "      <td>44</td>\n",
       "      <td>59</td>\n",
       "      <td>8</td>\n",
       "      <td>190</td>\n",
       "    </tr>\n",
       "    <tr>\n",
       "      <th>Thriller</th>\n",
       "      <td>2</td>\n",
       "      <td>3</td>\n",
       "      <td>4</td>\n",
       "      <td>8</td>\n",
       "      <td>14</td>\n",
       "      <td>11</td>\n",
       "      <td>6</td>\n",
       "      <td>21</td>\n",
       "      <td>33</td>\n",
       "      <td>27</td>\n",
       "      <td>2</td>\n",
       "      <td>131</td>\n",
       "    </tr>\n",
       "    <tr>\n",
       "      <th>Romance</th>\n",
       "      <td>3</td>\n",
       "      <td>6</td>\n",
       "      <td>10</td>\n",
       "      <td>10</td>\n",
       "      <td>9</td>\n",
       "      <td>5</td>\n",
       "      <td>4</td>\n",
       "      <td>22</td>\n",
       "      <td>29</td>\n",
       "      <td>28</td>\n",
       "      <td>1</td>\n",
       "      <td>127</td>\n",
       "    </tr>\n",
       "    <tr>\n",
       "      <th>Biography</th>\n",
       "      <td>1</td>\n",
       "      <td>0</td>\n",
       "      <td>0</td>\n",
       "      <td>0</td>\n",
       "      <td>10</td>\n",
       "      <td>8</td>\n",
       "      <td>9</td>\n",
       "      <td>14</td>\n",
       "      <td>25</td>\n",
       "      <td>37</td>\n",
       "      <td>3</td>\n",
       "      <td>107</td>\n",
       "    </tr>\n",
       "    <tr>\n",
       "      <th>Mystery</th>\n",
       "      <td>1</td>\n",
       "      <td>4</td>\n",
       "      <td>8</td>\n",
       "      <td>7</td>\n",
       "      <td>7</td>\n",
       "      <td>5</td>\n",
       "      <td>4</td>\n",
       "      <td>12</td>\n",
       "      <td>29</td>\n",
       "      <td>19</td>\n",
       "      <td>2</td>\n",
       "      <td>98</td>\n",
       "    </tr>\n",
       "    <tr>\n",
       "      <th>Animation</th>\n",
       "      <td>0</td>\n",
       "      <td>1</td>\n",
       "      <td>1</td>\n",
       "      <td>0</td>\n",
       "      <td>1</td>\n",
       "      <td>1</td>\n",
       "      <td>8</td>\n",
       "      <td>17</td>\n",
       "      <td>22</td>\n",
       "      <td>28</td>\n",
       "      <td>4</td>\n",
       "      <td>83</td>\n",
       "    </tr>\n",
       "    <tr>\n",
       "      <th>Sci-Fi</th>\n",
       "      <td>1</td>\n",
       "      <td>4</td>\n",
       "      <td>0</td>\n",
       "      <td>2</td>\n",
       "      <td>2</td>\n",
       "      <td>6</td>\n",
       "      <td>13</td>\n",
       "      <td>8</td>\n",
       "      <td>12</td>\n",
       "      <td>21</td>\n",
       "      <td>0</td>\n",
       "      <td>69</td>\n",
       "    </tr>\n",
       "    <tr>\n",
       "      <th>Fantasy</th>\n",
       "      <td>1</td>\n",
       "      <td>1</td>\n",
       "      <td>3</td>\n",
       "      <td>2</td>\n",
       "      <td>2</td>\n",
       "      <td>4</td>\n",
       "      <td>7</td>\n",
       "      <td>12</td>\n",
       "      <td>18</td>\n",
       "      <td>10</td>\n",
       "      <td>2</td>\n",
       "      <td>62</td>\n",
       "    </tr>\n",
       "    <tr>\n",
       "      <th>History</th>\n",
       "      <td>2</td>\n",
       "      <td>0</td>\n",
       "      <td>0</td>\n",
       "      <td>2</td>\n",
       "      <td>8</td>\n",
       "      <td>3</td>\n",
       "      <td>7</td>\n",
       "      <td>8</td>\n",
       "      <td>7</td>\n",
       "      <td>12</td>\n",
       "      <td>2</td>\n",
       "      <td>51</td>\n",
       "    </tr>\n",
       "    <tr>\n",
       "      <th>Family</th>\n",
       "      <td>2</td>\n",
       "      <td>2</td>\n",
       "      <td>3</td>\n",
       "      <td>1</td>\n",
       "      <td>3</td>\n",
       "      <td>2</td>\n",
       "      <td>7</td>\n",
       "      <td>8</td>\n",
       "      <td>14</td>\n",
       "      <td>7</td>\n",
       "      <td>1</td>\n",
       "      <td>50</td>\n",
       "    </tr>\n",
       "    <tr>\n",
       "      <th>War</th>\n",
       "      <td>0</td>\n",
       "      <td>3</td>\n",
       "      <td>5</td>\n",
       "      <td>5</td>\n",
       "      <td>8</td>\n",
       "      <td>6</td>\n",
       "      <td>9</td>\n",
       "      <td>2</td>\n",
       "      <td>6</td>\n",
       "      <td>5</td>\n",
       "      <td>0</td>\n",
       "      <td>49</td>\n",
       "    </tr>\n",
       "    <tr>\n",
       "      <th>Horror</th>\n",
       "      <td>2</td>\n",
       "      <td>5</td>\n",
       "      <td>0</td>\n",
       "      <td>2</td>\n",
       "      <td>9</td>\n",
       "      <td>4</td>\n",
       "      <td>5</td>\n",
       "      <td>0</td>\n",
       "      <td>6</td>\n",
       "      <td>5</td>\n",
       "      <td>0</td>\n",
       "      <td>38</td>\n",
       "    </tr>\n",
       "    <tr>\n",
       "      <th>Music</th>\n",
       "      <td>0</td>\n",
       "      <td>1</td>\n",
       "      <td>1</td>\n",
       "      <td>1</td>\n",
       "      <td>0</td>\n",
       "      <td>4</td>\n",
       "      <td>3</td>\n",
       "      <td>5</td>\n",
       "      <td>10</td>\n",
       "      <td>9</td>\n",
       "      <td>1</td>\n",
       "      <td>35</td>\n",
       "    </tr>\n",
       "    <tr>\n",
       "      <th>Film-Noir</th>\n",
       "      <td>0</td>\n",
       "      <td>0</td>\n",
       "      <td>12</td>\n",
       "      <td>10</td>\n",
       "      <td>0</td>\n",
       "      <td>0</td>\n",
       "      <td>0</td>\n",
       "      <td>0</td>\n",
       "      <td>0</td>\n",
       "      <td>0</td>\n",
       "      <td>0</td>\n",
       "      <td>22</td>\n",
       "    </tr>\n",
       "    <tr>\n",
       "      <th>Western</th>\n",
       "      <td>0</td>\n",
       "      <td>1</td>\n",
       "      <td>2</td>\n",
       "      <td>3</td>\n",
       "      <td>7</td>\n",
       "      <td>2</td>\n",
       "      <td>1</td>\n",
       "      <td>2</td>\n",
       "      <td>0</td>\n",
       "      <td>2</td>\n",
       "      <td>0</td>\n",
       "      <td>20</td>\n",
       "    </tr>\n",
       "    <tr>\n",
       "      <th>Sport</th>\n",
       "      <td>0</td>\n",
       "      <td>0</td>\n",
       "      <td>0</td>\n",
       "      <td>0</td>\n",
       "      <td>1</td>\n",
       "      <td>1</td>\n",
       "      <td>1</td>\n",
       "      <td>1</td>\n",
       "      <td>7</td>\n",
       "      <td>5</td>\n",
       "      <td>0</td>\n",
       "      <td>16</td>\n",
       "    </tr>\n",
       "    <tr>\n",
       "      <th>Musical</th>\n",
       "      <td>0</td>\n",
       "      <td>2</td>\n",
       "      <td>0</td>\n",
       "      <td>1</td>\n",
       "      <td>2</td>\n",
       "      <td>5</td>\n",
       "      <td>0</td>\n",
       "      <td>0</td>\n",
       "      <td>5</td>\n",
       "      <td>1</td>\n",
       "      <td>0</td>\n",
       "      <td>16</td>\n",
       "    </tr>\n",
       "  </tbody>\n",
       "</table>\n",
       "</div>"
      ],
      "text/plain": [
       "Period     1920s  1930s  1940s  1950s  1960s  1970s  1980s  1990s  2000s  \\\n",
       "Genre                                                                      \n",
       "All           30     66    103    136    180    160    220    357    599   \n",
       "Drama          6     13     28     50     55     45     54    111    179   \n",
       "Comedy         5     10     10      7     10     15     27     36     47   \n",
       "Crime          0      3     11     14      9     15     13     40     53   \n",
       "Action         2      2      2      3     11      8     19     22     53   \n",
       "Adventure      2      5      3      8     12     10     23     16     44   \n",
       "Thriller       2      3      4      8     14     11      6     21     33   \n",
       "Romance        3      6     10     10      9      5      4     22     29   \n",
       "Biography      1      0      0      0     10      8      9     14     25   \n",
       "Mystery        1      4      8      7      7      5      4     12     29   \n",
       "Animation      0      1      1      0      1      1      8     17     22   \n",
       "Sci-Fi         1      4      0      2      2      6     13      8     12   \n",
       "Fantasy        1      1      3      2      2      4      7     12     18   \n",
       "History        2      0      0      2      8      3      7      8      7   \n",
       "Family         2      2      3      1      3      2      7      8     14   \n",
       "War            0      3      5      5      8      6      9      2      6   \n",
       "Horror         2      5      0      2      9      4      5      0      6   \n",
       "Music          0      1      1      1      0      4      3      5     10   \n",
       "Film-Noir      0      0     12     10      0      0      0      0      0   \n",
       "Western        0      1      2      3      7      2      1      2      0   \n",
       "Sport          0      0      0      0      1      1      1      1      7   \n",
       "Musical        0      2      0      1      2      5      0      0      5   \n",
       "\n",
       "Period     2010s  2020s   All  \n",
       "Genre                          \n",
       "All          624     63  2538  \n",
       "Drama        173     16   730  \n",
       "Comedy        64      6   237  \n",
       "Crime         44      5   207  \n",
       "Action        68     10   200  \n",
       "Adventure     59      8   190  \n",
       "Thriller      27      2   131  \n",
       "Romance       28      1   127  \n",
       "Biography     37      3   107  \n",
       "Mystery       19      2    98  \n",
       "Animation     28      4    83  \n",
       "Sci-Fi        21      0    69  \n",
       "Fantasy       10      2    62  \n",
       "History       12      2    51  \n",
       "Family         7      1    50  \n",
       "War            5      0    49  \n",
       "Horror         5      0    38  \n",
       "Music          9      1    35  \n",
       "Film-Noir      0      0    22  \n",
       "Western        2      0    20  \n",
       "Sport          5      0    16  \n",
       "Musical        1      0    16  "
      ]
     },
     "execution_count": 54,
     "metadata": {},
     "output_type": "execute_result"
    }
   ],
   "source": [
    "pd.crosstab(genres_period['Genre'],\n",
    "            genres_period['Period'],\n",
    "            margins = True).sort_values(by = ['All'], ascending = False)"
   ]
  },
  {
   "cell_type": "markdown",
   "id": "f0bf7b51",
   "metadata": {},
   "source": [
    "After doing a chi-squared test on the cross table, the result shows that the p-value < 0.05, indicating that there is a significant difference in genres in each period."
   ]
  },
  {
   "cell_type": "code",
   "execution_count": 55,
   "id": "2440b813",
   "metadata": {},
   "outputs": [],
   "source": [
    "# scipy is imported for computing the p-value\n",
    "# you may need to install it first in order to execute it\n",
    "# !pip install scipy\n",
    "from scipy import stats"
   ]
  },
  {
   "cell_type": "code",
   "execution_count": 56,
   "id": "bd05f107",
   "metadata": {},
   "outputs": [
    {
     "data": {
      "text/plain": [
       "1.1222885521953558e-41"
      ]
     },
     "execution_count": 56,
     "metadata": {},
     "output_type": "execute_result"
    }
   ],
   "source": [
    "# compute the p-value\n",
    "c, p, dof, expected = stats.chi2_contingency(pd.crosstab(genres_period['Genre'],\n",
    "                                                         genres_period['Period']))\n",
    "p"
   ]
  },
  {
   "cell_type": "markdown",
   "id": "002d72ef",
   "metadata": {},
   "source": [
    "We can see that for example, there were fewer comedies and more dramas in the 1950s than in any other period, which may be a demonstration of the effect of the beginning of the cold war."
   ]
  },
  {
   "cell_type": "code",
   "execution_count": 57,
   "id": "a053c386",
   "metadata": {},
   "outputs": [
    {
     "data": {
      "image/png": "[encoded data removed]",
      "text/plain": [
       "<Figure size 720x360 with 1 Axes>"
      ]
     },
     "metadata": {
      "needs_background": "light"
     },
     "output_type": "display_data"
    }
   ],
   "source": [
    "# it would be more appropriate to compare the proportion\n",
    "# so we normalise the cross table here\n",
    "genre_x_period = pd.crosstab(genres_period['Genre'],\n",
    "                             genres_period['Period'],\n",
    "                             normalize = 'columns',\n",
    "                             margins = True).sort_values(by = ['All'], ascending = False)\n",
    "\n",
    "# plot the bar chart with the two genres having the most counts\n",
    "genre_x_period_plt = genre_x_period.loc[:, '1920s':'2020s'].head(2)\n",
    "genre_x_period_plt\n",
    "genre_x_period_plt.plot.barh(figsize = (10, 5)).invert_yaxis()"
   ]
  },
  {
   "cell_type": "markdown",
   "id": "f4f38a2c",
   "metadata": {},
   "source": [
    "### 1-3. Linear Regression"
   ]
  },
  {
   "cell_type": "markdown",
   "id": "718309b8",
   "metadata": {},
   "source": [
    "What are the relationships between the numeric factors: Year, Runtime, Rating and Gross? For example, is it true that the later the movie, the higher the rating? We can conduct linear regression to answer this."
   ]
  },
  {
   "cell_type": "code",
   "execution_count": 58,
   "id": "a0150ba3",
   "metadata": {},
   "outputs": [
    {
     "data": {
      "text/html": [
       "<div>\n",
       "<style scoped>\n",
       "    .dataframe tbody tr th:only-of-type {\n",
       "        vertical-align: middle;\n",
       "    }\n",
       "\n",
       "    .dataframe tbody tr th {\n",
       "        vertical-align: top;\n",
       "    }\n",
       "\n",
       "    .dataframe thead th {\n",
       "        text-align: right;\n",
       "    }\n",
       "</style>\n",
       "<table border=\"1\" class=\"dataframe\">\n",
       "  <thead>\n",
       "    <tr style=\"text-align: right;\">\n",
       "      <th></th>\n",
       "      <th>Year</th>\n",
       "      <th>Runtime</th>\n",
       "      <th>Rating</th>\n",
       "      <th>Gross After CPI</th>\n",
       "    </tr>\n",
       "  </thead>\n",
       "  <tbody>\n",
       "    <tr>\n",
       "      <th>0</th>\n",
       "      <td>1994</td>\n",
       "      <td>142</td>\n",
       "      <td>9.3</td>\n",
       "      <td>55.88</td>\n",
       "    </tr>\n",
       "    <tr>\n",
       "      <th>1</th>\n",
       "      <td>1972</td>\n",
       "      <td>175</td>\n",
       "      <td>9.2</td>\n",
       "      <td>943.31</td>\n",
       "    </tr>\n",
       "    <tr>\n",
       "      <th>2</th>\n",
       "      <td>2008</td>\n",
       "      <td>152</td>\n",
       "      <td>9.0</td>\n",
       "      <td>726.10</td>\n",
       "    </tr>\n",
       "    <tr>\n",
       "      <th>3</th>\n",
       "      <td>2003</td>\n",
       "      <td>201</td>\n",
       "      <td>9.0</td>\n",
       "      <td>600.34</td>\n",
       "    </tr>\n",
       "    <tr>\n",
       "      <th>4</th>\n",
       "      <td>1993</td>\n",
       "      <td>195</td>\n",
       "      <td>9.0</td>\n",
       "      <td>196.05</td>\n",
       "    </tr>\n",
       "  </tbody>\n",
       "</table>\n",
       "</div>"
      ],
      "text/plain": [
       "   Year  Runtime  Rating  Gross After CPI\n",
       "0  1994      142     9.3            55.88\n",
       "1  1972      175     9.2           943.31\n",
       "2  2008      152     9.0           726.10\n",
       "3  2003      201     9.0           600.34\n",
       "4  1993      195     9.0           196.05"
      ]
     },
     "execution_count": 58,
     "metadata": {},
     "output_type": "execute_result"
    }
   ],
   "source": [
    "# extract the columns that are our desired analysing factors into one table\n",
    "df_numeric = df_top1000.loc[:, ['Year', 'Runtime', 'Rating', 'Gross After CPI', ]]\n",
    "df_numeric.head()"
   ]
  },
  {
   "cell_type": "markdown",
   "id": "67ebf495",
   "metadata": {},
   "source": [
    "The package 'Pingouin' can not only quickly compute the correlation of several numeric factors, but also indicate if there is a statistical significance with a star mark."
   ]
  },
  {
   "cell_type": "code",
   "execution_count": 59,
   "id": "38c1ccb4",
   "metadata": {},
   "outputs": [],
   "source": [
    "# you may need to install pingouin first to execute it\n",
    "# !pip install pingouin\n",
    "import pingouin as pg"
   ]
  },
  {
   "cell_type": "code",
   "execution_count": 60,
   "id": "a237fd4d",
   "metadata": {},
   "outputs": [
    {
     "data": {
      "text/html": [
       "<div>\n",
       "<style scoped>\n",
       "    .dataframe tbody tr th:only-of-type {\n",
       "        vertical-align: middle;\n",
       "    }\n",
       "\n",
       "    .dataframe tbody tr th {\n",
       "        vertical-align: top;\n",
       "    }\n",
       "\n",
       "    .dataframe thead th {\n",
       "        text-align: right;\n",
       "    }\n",
       "</style>\n",
       "<table border=\"1\" class=\"dataframe\">\n",
       "  <thead>\n",
       "    <tr style=\"text-align: right;\">\n",
       "      <th></th>\n",
       "      <th>Year</th>\n",
       "      <th>Runtime</th>\n",
       "      <th>Rating</th>\n",
       "      <th>Gross After CPI</th>\n",
       "    </tr>\n",
       "  </thead>\n",
       "  <tbody>\n",
       "    <tr>\n",
       "      <th>Year</th>\n",
       "      <td>-</td>\n",
       "      <td>***</td>\n",
       "      <td>**</td>\n",
       "      <td>***</td>\n",
       "    </tr>\n",
       "    <tr>\n",
       "      <th>Runtime</th>\n",
       "      <td>0.196</td>\n",
       "      <td>-</td>\n",
       "      <td>***</td>\n",
       "      <td>***</td>\n",
       "    </tr>\n",
       "    <tr>\n",
       "      <th>Rating</th>\n",
       "      <td>-0.092</td>\n",
       "      <td>0.259</td>\n",
       "      <td>-</td>\n",
       "      <td>**</td>\n",
       "    </tr>\n",
       "    <tr>\n",
       "      <th>Gross After CPI</th>\n",
       "      <td>-0.15</td>\n",
       "      <td>0.167</td>\n",
       "      <td>0.112</td>\n",
       "      <td>-</td>\n",
       "    </tr>\n",
       "  </tbody>\n",
       "</table>\n",
       "</div>"
      ],
      "text/plain": [
       "                   Year Runtime Rating Gross After CPI\n",
       "Year                  -     ***     **             ***\n",
       "Runtime           0.196       -    ***             ***\n",
       "Rating           -0.092   0.259      -              **\n",
       "Gross After CPI   -0.15   0.167  0.112               -"
      ]
     },
     "execution_count": 60,
     "metadata": {},
     "output_type": "execute_result"
    }
   ],
   "source": [
    "df_numeric.rcorr()"
   ]
  },
  {
   "cell_type": "markdown",
   "id": "11c61d8e",
   "metadata": {},
   "source": [
    "From the result, although there is a statistical significance in every relationship of each factor (they all have star marks), the correlations are all weak (< 0.3). The Runtime and Rating relationship shows the strongest positive correlation of 0.259, which suggests that it may be slightly helpful to get a better rate if the movie is longer."
   ]
  },
  {
   "cell_type": "code",
   "execution_count": 61,
   "id": "8b8c3588",
   "metadata": {},
   "outputs": [
    {
     "data": {
      "text/plain": [
       "(0.2587135054860926, <seaborn.axisgrid.FacetGrid at 0x1b74b01ba60>)"
      ]
     },
     "execution_count": 61,
     "metadata": {},
     "output_type": "execute_result"
    },
    {
     "data": {
      "image/png": "[encoded data removed]",
      "text/plain": [
       "<Figure size 360x360 with 1 Axes>"
      ]
     },
     "metadata": {
      "needs_background": "light"
     },
     "output_type": "display_data"
    }
   ],
   "source": [
    "df_numeric['Runtime'].corr(df_numeric['Rating']), sns.lmplot(x = 'Runtime', y = 'Rating', data = df_numeric)"
   ]
  },
  {
   "cell_type": "markdown",
   "id": "e66608c7",
   "metadata": {},
   "source": [
    "## 2. Christmas Movies in Top 1000"
   ]
  },
  {
   "cell_type": "markdown",
   "id": "d97b626c",
   "metadata": {},
   "source": [
    "There is another dataset having all the movies with the tag 'Christmas Movie'. We are going to use it to see which Christmas movies are also in the top 1000."
   ]
  },
  {
   "cell_type": "code",
   "execution_count": 62,
   "id": "99759fc7",
   "metadata": {},
   "outputs": [
    {
     "data": {
      "text/html": [
       "<div>\n",
       "<style scoped>\n",
       "    .dataframe tbody tr th:only-of-type {\n",
       "        vertical-align: middle;\n",
       "    }\n",
       "\n",
       "    .dataframe tbody tr th {\n",
       "        vertical-align: top;\n",
       "    }\n",
       "\n",
       "    .dataframe thead th {\n",
       "        text-align: right;\n",
       "    }\n",
       "</style>\n",
       "<table border=\"1\" class=\"dataframe\">\n",
       "  <thead>\n",
       "    <tr style=\"text-align: right;\">\n",
       "      <th></th>\n",
       "      <th>Title</th>\n",
       "      <th>Rating</th>\n",
       "      <th>Runtime</th>\n",
       "      <th>Imdb_Rating</th>\n",
       "      <th>Meta_Score</th>\n",
       "      <th>Genre</th>\n",
       "      <th>Release_Year</th>\n",
       "      <th>Description</th>\n",
       "      <th>Director</th>\n",
       "      <th>Stars</th>\n",
       "      <th>Votes</th>\n",
       "      <th>Gross</th>\n",
       "      <th>Img_Src</th>\n",
       "      <th>Type</th>\n",
       "    </tr>\n",
       "  </thead>\n",
       "  <tbody>\n",
       "    <tr>\n",
       "      <th>0</th>\n",
       "      <td>Love Actually</td>\n",
       "      <td>R</td>\n",
       "      <td>135.0</td>\n",
       "      <td>7.6</td>\n",
       "      <td>55.0</td>\n",
       "      <td>Comedy, Drama, Romance</td>\n",
       "      <td>2003.0</td>\n",
       "      <td>Follows the lives of eight very different coup...</td>\n",
       "      <td>Richard Curtis</td>\n",
       "      <td>Hugh Grant, Martine McCutcheon, Liam Neeson, L...</td>\n",
       "      <td>491,920</td>\n",
       "      <td>$59.70M</td>\n",
       "      <td>https://m.media-amazon.com/images/M/MV5BMTY4Nj...</td>\n",
       "      <td>Movie</td>\n",
       "    </tr>\n",
       "    <tr>\n",
       "      <th>1</th>\n",
       "      <td>National Lampoon's Christmas Vacation</td>\n",
       "      <td>PG-13</td>\n",
       "      <td>97.0</td>\n",
       "      <td>7.5</td>\n",
       "      <td>49.0</td>\n",
       "      <td>Comedy</td>\n",
       "      <td>1989.0</td>\n",
       "      <td>The Griswold family's plans for a big family C...</td>\n",
       "      <td>Jeremiah S. Chechik</td>\n",
       "      <td>Chevy Chase, Beverly D'Angelo, Juliette Lewis,...</td>\n",
       "      <td>198,428</td>\n",
       "      <td>$71.32M</td>\n",
       "      <td>https://m.media-amazon.com/images/M/MV5BMGZkMW...</td>\n",
       "      <td>Movie</td>\n",
       "    </tr>\n",
       "    <tr>\n",
       "      <th>2</th>\n",
       "      <td>Spirited</td>\n",
       "      <td>PG-13</td>\n",
       "      <td>127.0</td>\n",
       "      <td>6.6</td>\n",
       "      <td>55.0</td>\n",
       "      <td>Comedy, Family, Musical</td>\n",
       "      <td>2022.0</td>\n",
       "      <td>A musical version of Charles Dickens's story o...</td>\n",
       "      <td>Sean Anders</td>\n",
       "      <td>Will Ferrell, Ryan Reynolds, Octavia Spencer, ...</td>\n",
       "      <td>34,304</td>\n",
       "      <td>NaN</td>\n",
       "      <td>https://m.media-amazon.com/images/M/MV5BY2RlZG...</td>\n",
       "      <td>Movie</td>\n",
       "    </tr>\n",
       "    <tr>\n",
       "      <th>3</th>\n",
       "      <td>Home Alone</td>\n",
       "      <td>PG</td>\n",
       "      <td>103.0</td>\n",
       "      <td>7.7</td>\n",
       "      <td>63.0</td>\n",
       "      <td>Comedy, Family</td>\n",
       "      <td>1990.0</td>\n",
       "      <td>An eight-year-old troublemaker, mistakenly lef...</td>\n",
       "      <td>Chris Columbus</td>\n",
       "      <td>Macaulay Culkin, Joe Pesci, Daniel Stern, John...</td>\n",
       "      <td>584,210</td>\n",
       "      <td>$285.76M</td>\n",
       "      <td>https://m.media-amazon.com/images/M/MV5BMzFkM2...</td>\n",
       "      <td>Movie</td>\n",
       "    </tr>\n",
       "    <tr>\n",
       "      <th>4</th>\n",
       "      <td>How the Grinch Stole Christmas</td>\n",
       "      <td>PG</td>\n",
       "      <td>104.0</td>\n",
       "      <td>6.3</td>\n",
       "      <td>46.0</td>\n",
       "      <td>Comedy, Family, Fantasy</td>\n",
       "      <td>2000.0</td>\n",
       "      <td>On the outskirts of Whoville lives a green, re...</td>\n",
       "      <td>Ron Howard</td>\n",
       "      <td>Jim Carrey, Taylor Momsen, Kelley, Jeffrey Tam...</td>\n",
       "      <td>259,796</td>\n",
       "      <td>$260.04M</td>\n",
       "      <td>https://m.media-amazon.com/images/M/MV5BNWNiNT...</td>\n",
       "      <td>Movie</td>\n",
       "    </tr>\n",
       "  </tbody>\n",
       "</table>\n",
       "</div>"
      ],
      "text/plain": [
       "                                   Title Rating  Runtime  Imdb_Rating  \\\n",
       "0                          Love Actually      R    135.0          7.6   \n",
       "1  National Lampoon's Christmas Vacation  PG-13     97.0          7.5   \n",
       "2                               Spirited  PG-13    127.0          6.6   \n",
       "3                             Home Alone     PG    103.0          7.7   \n",
       "4         How the Grinch Stole Christmas     PG    104.0          6.3   \n",
       "\n",
       "   Meta_Score                    Genre  Release_Year  \\\n",
       "0        55.0   Comedy, Drama, Romance        2003.0   \n",
       "1        49.0                   Comedy        1989.0   \n",
       "2        55.0  Comedy, Family, Musical        2022.0   \n",
       "3        63.0           Comedy, Family        1990.0   \n",
       "4        46.0  Comedy, Family, Fantasy        2000.0   \n",
       "\n",
       "                                         Description             Director  \\\n",
       "0  Follows the lives of eight very different coup...       Richard Curtis   \n",
       "1  The Griswold family's plans for a big family C...  Jeremiah S. Chechik   \n",
       "2  A musical version of Charles Dickens's story o...          Sean Anders   \n",
       "3  An eight-year-old troublemaker, mistakenly lef...       Chris Columbus   \n",
       "4  On the outskirts of Whoville lives a green, re...           Ron Howard   \n",
       "\n",
       "                                               Stars    Votes     Gross  \\\n",
       "0  Hugh Grant, Martine McCutcheon, Liam Neeson, L...  491,920   $59.70M   \n",
       "1  Chevy Chase, Beverly D'Angelo, Juliette Lewis,...  198,428   $71.32M   \n",
       "2  Will Ferrell, Ryan Reynolds, Octavia Spencer, ...   34,304       NaN   \n",
       "3  Macaulay Culkin, Joe Pesci, Daniel Stern, John...  584,210  $285.76M   \n",
       "4  Jim Carrey, Taylor Momsen, Kelley, Jeffrey Tam...  259,796  $260.04M   \n",
       "\n",
       "                                             Img_Src   Type  \n",
       "0  https://m.media-amazon.com/images/M/MV5BMTY4Nj...  Movie  \n",
       "1  https://m.media-amazon.com/images/M/MV5BMGZkMW...  Movie  \n",
       "2  https://m.media-amazon.com/images/M/MV5BY2RlZG...  Movie  \n",
       "3  https://m.media-amazon.com/images/M/MV5BMzFkM2...  Movie  \n",
       "4  https://m.media-amazon.com/images/M/MV5BNWNiNT...  Movie  "
      ]
     },
     "execution_count": 62,
     "metadata": {},
     "output_type": "execute_result"
    }
   ],
   "source": [
    "# read the CSV of Christmas Movies\n",
    "df_xmas = pd.read_csv('movie_data\\christmas_movies.csv')\n",
    "columns = df_xmas.columns\n",
    "for column in columns:\n",
    "    column_clean = column.strip().title()\n",
    "    df_xmas.rename(columns = {column:column_clean}, inplace = True)\n",
    "df_xmas.head()"
   ]
  },
  {
   "cell_type": "markdown",
   "id": "7791278a",
   "metadata": {},
   "source": [
    "By using the Christmas movies dataset, we can tag movies in the top 1000 with the tags 'Xmas' and 'Non-Xmas'. As you can see, there are 17 Christmas movies in the top 1000."
   ]
  },
  {
   "cell_type": "code",
   "execution_count": 63,
   "id": "9ddb3ba0",
   "metadata": {},
   "outputs": [
    {
     "data": {
      "text/plain": [
       "Xmas Tag\n",
       "Non-Xmas    983\n",
       "Xmas         17\n",
       "Name: Movie Name, dtype: int64"
      ]
     },
     "execution_count": 63,
     "metadata": {},
     "output_type": "execute_result"
    }
   ],
   "source": [
    "xmas_list = []\n",
    "# checking each movie title in the top 1000,\n",
    "# if it is also in the Christmas dataset, tag it with 'Xmas'\n",
    "# if not, tag it with 'Non-Xmas'\n",
    "# and insert the result into our pre-created list\n",
    "for movie in list(df_top1000['Movie Name']):\n",
    "    if movie in list(df_xmas['Title']):\n",
    "        xmas_list.append('Xmas')\n",
    "    else:\n",
    "        xmas_list.append('Non-Xmas')\n",
    "\n",
    "# create a column of the tagging results in the original top 1000 table\n",
    "df_top1000['Xmas Tag'] = xmas_list\n",
    "\n",
    "df_top1000.groupby('Xmas Tag')['Movie Name'].count()"
   ]
  },
  {
   "cell_type": "markdown",
   "id": "756876e9",
   "metadata": {},
   "source": [
    "But if there is a difference between Xmas and Non-Xmas movies in the top 1000? To answer it, we can perform ANOVA to check if there is a significant difference in the mean of every numeric factor ('Year', 'Runtime', 'Rating', and 'Gross After CPI') between the two categories."
   ]
  },
  {
   "cell_type": "code",
   "execution_count": 64,
   "id": "18c9922a",
   "metadata": {},
   "outputs": [],
   "source": [
    "# the package is for conducting one-way ANOVA\n",
    "from scipy.stats import f_oneway"
   ]
  },
  {
   "cell_type": "code",
   "execution_count": 65,
   "id": "0b5a7309",
   "metadata": {},
   "outputs": [
    {
     "name": "stdout",
     "output_type": "stream",
     "text": [
      "Year: 0.07630979811593462\n",
      "Runtime: 0.012063969054607673\n",
      "Rating: 0.8435585300652745\n",
      "Gross After CPI: 0.8731223987998614\n"
     ]
    }
   ],
   "source": [
    "# indicate the columns we want to perform the ANOVA\n",
    "check_list = ['Year', 'Runtime', 'Rating', 'Gross After CPI']\n",
    "\n",
    "for item in check_list:\n",
    "    # for each tag, extract the corresponding numbers and make a list of them\n",
    "    # because there can be NaN in the cell, we have to eliminate it when computing\n",
    "    # and the ANOVA compares the mean of the two list\n",
    "    s, p = f_oneway(\n",
    "        [x for x in list(df_top1000.loc[df_top1000['Xmas Tag'] == 'Xmas'][item]) if str(x) != 'nan'],\n",
    "        [x for x in list(df_top1000.loc[df_top1000['Xmas Tag'] == 'Non-Xmas'][item]) if str(x) != 'nan']\n",
    "    )\n",
    "    print(f'{item}: {p}')"
   ]
  },
  {
   "cell_type": "markdown",
   "id": "f3d003ba",
   "metadata": {},
   "source": [
    "As you can see, 'Runtime' is the only factor with a significant difference (p < 0.05) between the Xmas and Non-Xmas movies in the top 1000. And looking at the detailed numbers and graph, we can find out that the average runtime of Christmas movies (106 mins) is significantly lower than the runtime of non-Christmas movies (124 mins), indicating that holiday movies may have deliberately shortened the runtime to attract families."
   ]
  },
  {
   "cell_type": "code",
   "execution_count": 66,
   "id": "afff2d2b",
   "metadata": {},
   "outputs": [
    {
     "data": {
      "text/plain": [
       "(Xmas Tag\n",
       " Non-Xmas    123.934893\n",
       " Xmas        106.411765\n",
       " Name: Runtime, dtype: float64,\n",
       " <AxesSubplot:xlabel='Runtime', ylabel='Xmas Tag'>)"
      ]
     },
     "execution_count": 66,
     "metadata": {},
     "output_type": "execute_result"
    },
    {
     "data": {
      "image/png": "[encoded data removed]",
      "text/plain": [
       "<Figure size 432x288 with 1 Axes>"
      ]
     },
     "metadata": {
      "needs_background": "light"
     },
     "output_type": "display_data"
    }
   ],
   "source": [
    "df_top1000.groupby('Xmas Tag')['Runtime'].mean(), sns.boxplot(x = 'Runtime', y = 'Xmas Tag', data = df_top1000)"
   ]
  },
  {
   "cell_type": "markdown",
   "id": "0154f641",
   "metadata": {},
   "source": [
    "## 3. Star Wars Episodes IV to VI"
   ]
  },
  {
   "cell_type": "markdown",
   "id": "9429ddcd",
   "metadata": {},
   "source": [
    "In this section, we will analyze the scripts of the Star Wars trilogy (the earliest ones, IV to VI)."
   ]
  },
  {
   "cell_type": "markdown",
   "id": "eeca1933",
   "metadata": {},
   "source": [
    "### 3-1. Text Analysis"
   ]
  },
  {
   "cell_type": "markdown",
   "id": "8f74556d",
   "metadata": {},
   "source": [
    "We have three text files which contain the dialogues of each episode. Because each filename has the same pattern, we can use glob to make a list of these files."
   ]
  },
  {
   "cell_type": "code",
   "execution_count": 67,
   "id": "359f4f59",
   "metadata": {},
   "outputs": [
    {
     "data": {
      "text/plain": [
       "['movie_data\\\\SW_EpisodeIV.txt',\n",
       " 'movie_data\\\\SW_EpisodeV.txt',\n",
       " 'movie_data\\\\SW_EpisodeVI.txt']"
      ]
     },
     "execution_count": 67,
     "metadata": {},
     "output_type": "execute_result"
    }
   ],
   "source": [
    "from glob import glob\n",
    "files = sorted(glob('movie_data/SW_Episode*.txt'))\n",
    "files"
   ]
  },
  {
   "cell_type": "markdown",
   "id": "8a556b4d",
   "metadata": {},
   "source": [
    "Take a look at the first dialogue of the first episode, we can see that they are \"number\" and \"character name in capital letters\" at the beginning of each dialogue, which is not useful for text analysis, so we will use a regular expression to eliminate them."
   ]
  },
  {
   "cell_type": "code",
   "execution_count": 68,
   "id": "25bee767",
   "metadata": {},
   "outputs": [
    {
     "name": "stdout",
     "output_type": "stream",
     "text": [
      "\"1\" \"THREEPIO\" \"Did you hear that?  They've shut down the main reactor.  We'll be destroyed for sure.  This is madness!\"\n",
      "\n"
     ]
    }
   ],
   "source": [
    "with open(files[0], 'rt', encoding = 'UTF-8') as infile:\n",
    "    for line in infile:\n",
    "        print(line)\n",
    "        break"
   ]
  },
  {
   "cell_type": "code",
   "execution_count": 69,
   "id": "93020493",
   "metadata": {},
   "outputs": [],
   "source": [
    "import re\n",
    "import string\n",
    "import nltk\n",
    "# you may need to download 'punkt' if there is an error shown when using the nltk tokenise function\n",
    "# nltk.download('punkt')"
   ]
  },
  {
   "cell_type": "code",
   "execution_count": 70,
   "id": "e49d3f66",
   "metadata": {},
   "outputs": [
    {
     "data": {
      "text/plain": [
       "(['did',\n",
       "  'you',\n",
       "  'hear',\n",
       "  'that',\n",
       "  'they',\n",
       "  \"'ve\",\n",
       "  'shut',\n",
       "  'down',\n",
       "  'the',\n",
       "  'main',\n",
       "  'reactor',\n",
       "  'we',\n",
       "  \"'ll\",\n",
       "  'be',\n",
       "  'destroyed',\n",
       "  'for',\n",
       "  'sure',\n",
       "  'this',\n",
       "  'is',\n",
       "  'madness'],\n",
       " 3)"
      ]
     },
     "execution_count": 70,
     "metadata": {},
     "output_type": "execute_result"
    }
   ],
   "source": [
    "# define a function to extract dialogue from each line,\n",
    "# make the whole line of dialogue in lower letters and tokenise the dialogue\n",
    "# there can be punctuations in the dialogue and should be eliminated\n",
    "def dialogue(line):\n",
    "    dialogues = re.findall(r'\\\"[0-9]{1,4}\\\"\\s\\\"[A-Z]+.+\\\"\\s\\\"(.+?)\\\"', line)\n",
    "    return [token.lower() for token in nltk.word_tokenize(dialogues[0]) if token not in string.punctuation]\n",
    "\n",
    "# perform the function on every file\n",
    "# and make a list containing tokenised dialogues, separated by each episode\n",
    "trilogy_dialogue = []\n",
    "for file in files:\n",
    "    each_episode = []\n",
    "    with open(file, 'rt', encoding = 'UTF-8') as infile:\n",
    "        for line in infile:\n",
    "            each_episode.append(dialogue(line))\n",
    "    trilogy_dialogue.append(each_episode)\n",
    "\n",
    "trilogy_dialogue[0][0], len(trilogy_dialogue)"
   ]
  },
  {
   "cell_type": "markdown",
   "id": "151ac12a",
   "metadata": {},
   "source": [
    "Now we have the prepared corpus, let's calculate numbers! We can see that the first episode has the most dialogue and words. And although the third episode has the least dialogues and words, there are fewer average words in dialogues in episode V."
   ]
  },
  {
   "cell_type": "code",
   "execution_count": 71,
   "id": "6d075d74",
   "metadata": {},
   "outputs": [
    {
     "data": {
      "text/html": [
       "<div>\n",
       "<style scoped>\n",
       "    .dataframe tbody tr th:only-of-type {\n",
       "        vertical-align: middle;\n",
       "    }\n",
       "\n",
       "    .dataframe tbody tr th {\n",
       "        vertical-align: top;\n",
       "    }\n",
       "\n",
       "    .dataframe thead th {\n",
       "        text-align: right;\n",
       "    }\n",
       "</style>\n",
       "<table border=\"1\" class=\"dataframe\">\n",
       "  <thead>\n",
       "    <tr style=\"text-align: right;\">\n",
       "      <th></th>\n",
       "      <th>Word Count</th>\n",
       "      <th>Dialogue Count</th>\n",
       "      <th>Word per Dialogue</th>\n",
       "    </tr>\n",
       "  </thead>\n",
       "  <tbody>\n",
       "    <tr>\n",
       "      <th>IV</th>\n",
       "      <td>12119</td>\n",
       "      <td>1010</td>\n",
       "      <td>12.00</td>\n",
       "    </tr>\n",
       "    <tr>\n",
       "      <th>V</th>\n",
       "      <td>8243</td>\n",
       "      <td>839</td>\n",
       "      <td>9.82</td>\n",
       "    </tr>\n",
       "    <tr>\n",
       "      <th>VI</th>\n",
       "      <td>7314</td>\n",
       "      <td>674</td>\n",
       "      <td>10.85</td>\n",
       "    </tr>\n",
       "  </tbody>\n",
       "</table>\n",
       "</div>"
      ],
      "text/plain": [
       "    Word Count  Dialogue Count  Word per Dialogue\n",
       "IV       12119            1010              12.00\n",
       "V         8243             839               9.82\n",
       "VI        7314             674              10.85"
      ]
     },
     "execution_count": 71,
     "metadata": {},
     "output_type": "execute_result"
    }
   ],
   "source": [
    "# compute the number of dialogues in each episode\n",
    "dialogue_count = [\n",
    "    len(trilogy_dialogue[0]),\n",
    "    len(trilogy_dialogue[1]),\n",
    "    len(trilogy_dialogue[2])\n",
    "]\n",
    "\n",
    "# compute the number of words of total dialogues in each episode\n",
    "word_count = []\n",
    "for episode in trilogy_dialogue:\n",
    "    count = 0\n",
    "    for dialogue in episode:\n",
    "        count += len(dialogue)\n",
    "    word_count.append(count)\n",
    "\n",
    "# compute the average word counts of each dialogue in each episode\n",
    "word_per_dialogue = [\n",
    "    round(word_count[0] / dialogue_count[0], 2),\n",
    "    round(word_count[1] / dialogue_count[1], 2),\n",
    "    round(word_count[2] / dialogue_count[2], 2)\n",
    "]\n",
    "\n",
    "# insert the computed numbers into an organised table\n",
    "df_sw = pd.DataFrame(\n",
    "    {\n",
    "        'Word Count': word_count,\n",
    "        'Dialogue Count': dialogue_count,\n",
    "        'Word per Dialogue': word_per_dialogue\n",
    "    }, index = ['IV', 'V', 'VI']\n",
    ")\n",
    "\n",
    "df_sw"
   ]
  },
  {
   "cell_type": "markdown",
   "id": "6d841280",
   "metadata": {},
   "source": [
    "How about comparing the counts of words and dialogues with the runtime? We can see that the runtime of episode VI is the longest. However, it has fewer dialogues and words. Is it because maybe there are more fight scenes in the last episode? It can be interesting to investigate further."
   ]
  },
  {
   "cell_type": "code",
   "execution_count": 72,
   "id": "2a11d4ba",
   "metadata": {},
   "outputs": [
    {
     "data": {
      "text/html": [
       "<div>\n",
       "<style scoped>\n",
       "    .dataframe tbody tr th:only-of-type {\n",
       "        vertical-align: middle;\n",
       "    }\n",
       "\n",
       "    .dataframe tbody tr th {\n",
       "        vertical-align: top;\n",
       "    }\n",
       "\n",
       "    .dataframe thead th {\n",
       "        text-align: right;\n",
       "    }\n",
       "</style>\n",
       "<table border=\"1\" class=\"dataframe\">\n",
       "  <thead>\n",
       "    <tr style=\"text-align: right;\">\n",
       "      <th></th>\n",
       "      <th>Runtime</th>\n",
       "      <th>Word per Min</th>\n",
       "      <th>Dialogue per Min</th>\n",
       "    </tr>\n",
       "  </thead>\n",
       "  <tbody>\n",
       "    <tr>\n",
       "      <th>IV</th>\n",
       "      <td>121</td>\n",
       "      <td>100.16</td>\n",
       "      <td>8.35</td>\n",
       "    </tr>\n",
       "    <tr>\n",
       "      <th>V</th>\n",
       "      <td>124</td>\n",
       "      <td>66.48</td>\n",
       "      <td>6.77</td>\n",
       "    </tr>\n",
       "    <tr>\n",
       "      <th>VI</th>\n",
       "      <td>131</td>\n",
       "      <td>55.83</td>\n",
       "      <td>5.15</td>\n",
       "    </tr>\n",
       "  </tbody>\n",
       "</table>\n",
       "</div>"
      ],
      "text/plain": [
       "    Runtime  Word per Min  Dialogue per Min\n",
       "IV      121        100.16              8.35\n",
       "V       124         66.48              6.77\n",
       "VI      131         55.83              5.15"
      ]
     },
     "execution_count": 72,
     "metadata": {},
     "output_type": "execute_result"
    }
   ],
   "source": [
    "# insert the runtime of each episode into the pre-created table\n",
    "sw_runtime = [121, 124, 131]\n",
    "df_sw['Runtime'] = sw_runtime\n",
    "\n",
    "# compute the words per minute and insert them back into the table\n",
    "word_per_min = [\n",
    "    round(word_count[0] / sw_runtime[0], 2),\n",
    "    round(word_count[1] / sw_runtime[1], 2),\n",
    "    round(word_count[2] / sw_runtime[2], 2)\n",
    "]\n",
    "df_sw['Word per Min'] = word_per_min\n",
    "\n",
    "# compute the dialogues per minute and insert them back into the table\n",
    "dialogue_per_min = [\n",
    "    round(dialogue_count[0] / sw_runtime[0], 2),\n",
    "    round(dialogue_count[1] / sw_runtime[1], 2),\n",
    "    round(dialogue_count[2] / sw_runtime[2], 2)\n",
    "]\n",
    "df_sw['Dialogue per Min'] = dialogue_per_min\n",
    "\n",
    "df_sw.loc[:, ['Runtime', 'Word per Min', 'Dialogue per Min']]"
   ]
  },
  {
   "cell_type": "markdown",
   "id": "30a61b6c",
   "metadata": {},
   "source": [
    "'The force' and 'Dark side' are important concepts of the trilogy. Where are the positions in the script when these terms are mentioned? To answer this, we can not simply use the corpus list we created before, because it is tokenised into single words and can not be searched for terms. We have to create another list containing bigrams for each dialogue."
   ]
  },
  {
   "cell_type": "code",
   "execution_count": 73,
   "id": "21a234c6",
   "metadata": {},
   "outputs": [],
   "source": [
    "from nltk.util import bigrams"
   ]
  },
  {
   "cell_type": "code",
   "execution_count": 74,
   "id": "25a37442",
   "metadata": {},
   "outputs": [],
   "source": [
    "# create a function similar to the previous one, but use the bigram function this time\n",
    "def dialogue_bigram(line):\n",
    "    dialogues = re.findall(r'\\\"[0-9]{1,4}\\\"\\s\\\"[A-Z]+.+\\\"\\s\\\"(.+?)\\\"', line)\n",
    "    return list(bigrams([token.lower() for token in nltk.word_tokenize(dialogues[0]) if token not in string.punctuation]))\n",
    "\n",
    "# create a bigram list which is also separated by episodes and dialogues\n",
    "trilogy_dialogue_bigram = []\n",
    "for file in files:\n",
    "    each_episode = []\n",
    "    with open(file, 'rt', encoding = 'UTF-8') as infile:\n",
    "        for line in infile:\n",
    "            each_episode.append(dialogue_bigram(line))\n",
    "    trilogy_dialogue_bigram.append(each_episode)"
   ]
  },
  {
   "cell_type": "markdown",
   "id": "bc8bd85c",
   "metadata": {},
   "source": [
    "Now we can find the position of the terms! From the graph, it is clear that the concept of the 'Dark side' is mainly discussed in the later half of the trilogy. And in episode V (around dialogue 1000 to 1500), both terms were not mentioned a lot, which may tell us that the theme of this episode can be slightly different from the others."
   ]
  },
  {
   "cell_type": "code",
   "execution_count": 75,
   "id": "af859fc8",
   "metadata": {},
   "outputs": [],
   "source": [
    "# define a function to create a list of positions\n",
    "# that a certain tuple is in dialogues\n",
    "def positions_of(words):\n",
    "    position_number = []\n",
    "    i = 0\n",
    "    for episode in trilogy_dialogue_bigram:\n",
    "        # count how many dialogues we have checked\n",
    "        for dialogue in episode:\n",
    "            i += 1\n",
    "            # and insert the number to the list if the bigram is in the dialogue\n",
    "            if words in dialogue:\n",
    "                position_number.append(i)\n",
    "    return position_number\n",
    "\n",
    "# find the positions of the tuples ('the', 'force') and ('dark', 'side') in the dialogues\n",
    "positions_of_force = positions_of(('the', 'force'))\n",
    "position_of_dark = positions_of(('dark', 'side'))"
   ]
  },
  {
   "cell_type": "code",
   "execution_count": 76,
   "id": "9bb8f888",
   "metadata": {},
   "outputs": [],
   "source": [
    "import matplotlib.pyplot as plt"
   ]
  },
  {
   "cell_type": "code",
   "execution_count": 77,
   "id": "42bb588c",
   "metadata": {},
   "outputs": [
    {
     "data": {
      "image/png": "[encoded data removed]",
      "text/plain": [
       "<Figure size 1080x360 with 1 Axes>"
      ]
     },
     "metadata": {
      "needs_background": "light"
     },
     "output_type": "display_data"
    }
   ],
   "source": [
    "plt.figure(figsize=(15, 5))\n",
    "names = ['The Force', 'Dark Side']\n",
    "plt.plot(position_of_dark, [1] * len(position_of_dark), '|', markersize=50)\n",
    "plt.plot(positions_of_force, [0] * len(positions_of_force), '|', markersize=50)\n",
    "plt.yticks(range(len(names)), names)\n",
    "plt.ylim(-1, 2);"
   ]
  },
  {
   "cell_type": "markdown",
   "id": "14445eca",
   "metadata": {},
   "source": [
    "### 3-2. Social Network Analysis"
   ]
  },
  {
   "cell_type": "markdown",
   "id": "9a08bccb",
   "metadata": {},
   "source": [
    "Who are the most important characters in the trilogy? We can perform a social network analysis to answer this. To do this, we will have to group the characters with each scene. However, since there is no information on the scene in our original text, we will have to extract information from the website that has the whole script."
   ]
  },
  {
   "cell_type": "code",
   "execution_count": 78,
   "id": "34ece2c7",
   "metadata": {},
   "outputs": [],
   "source": [
    "from bs4 import BeautifulSoup\n",
    "import requests"
   ]
  },
  {
   "cell_type": "code",
   "execution_count": 79,
   "id": "01d238f4",
   "metadata": {},
   "outputs": [],
   "source": [
    "req_IV = requests.get('https://imsdb.com/scripts/Star-Wars-A-New-Hope.html')\n",
    "soup_IV = BeautifulSoup(req_IV.content, 'html.parser')"
   ]
  },
  {
   "cell_type": "code",
   "execution_count": 80,
   "id": "34d76e87",
   "metadata": {},
   "outputs": [
    {
     "name": "stdout",
     "output_type": "stream",
     "text": [
      "\r\n",
      "\r\n",
      "\r\n",
      "                                        STAR WARS\r\n",
      "\r\n",
      "                                        Episode IV\r\n",
      "\r\n",
      "                                        A NEW HOPE\r\n",
      "\r\n",
      "                                         From the\r\n",
      "                                  JOURNAL OF THE WHILLS\r\n",
      "\r\n",
      "                                            by\r\n",
      "                                       George Lucas\r\n",
      "\r\n",
      "                                   Revised Fourth Draft\r\n",
      "                                     January 15, 1976\r\n",
      "\r\n",
      "      \n"
     ]
    }
   ],
   "source": [
    "print(soup_IV.find('pre').get_text()[:500])"
   ]
  },
  {
   "cell_type": "markdown",
   "id": "df8d1fbb",
   "metadata": {},
   "source": [
    "Now we have the script, we can extract the information we want. We will separate the script by each scene, extract characters in the scene with a list, and then combine the list into a big list."
   ]
  },
  {
   "cell_type": "code",
   "execution_count": 81,
   "id": "d7bd6ccb",
   "metadata": {},
   "outputs": [],
   "source": [
    "# the script part in the website is covered by <pre></pre>\n",
    "# so we find the text within the tag first\n",
    "script_IV = str(soup_IV.find('pre').get_text())\n",
    "\n",
    "# the title of a scene starts with something like EXT. or INT. (three letters in capital and a dot)\n",
    "# so we use the pattern to split each scene\n",
    "scene_list_IV = re.split(r'[A-Z]{3}\\.', script_IV)\n",
    "\n",
    "# create a list of characters separated by each scene\n",
    "character_IV = []\n",
    "for scene in scene_list_IV:\n",
    "    # there are four white spaces before a character name and a '\\r\\n' after\n",
    "    # character name has at least three letters in capital\n",
    "    # there are some names like 'IMPERIAL OFFICER' which has a white space within\n",
    "    # so we use or to fulfil this pattern too\n",
    "    name = re.findall(r'\\s\\s\\s\\s([A-Z]{3,}|[A-Z]{3,}\\s[A-Z]{3,})\\r\\n', scene)\n",
    "    characters = []\n",
    "    for character in name:\n",
    "        if not character in characters:\n",
    "            # some characters are 'something VOICE',\n",
    "            # which is not face-to-face communication and should be eliminated\n",
    "            # and the pattern we have for extracting character\n",
    "            # sometimes wrongly get \"DAY\" from the scene title\n",
    "            # which should be eliminated too\n",
    "            if not 'VOICE' in character and character not in 'DAY':\n",
    "                characters.append(character)\n",
    "    # for network analysis, we need scenes with at least two characters\n",
    "    # so if there is only one it should be eliminated\n",
    "    if len(characters) > 1:\n",
    "        character_IV.append(characters)"
   ]
  },
  {
   "cell_type": "markdown",
   "id": "5fb81c05",
   "metadata": {},
   "source": [
    "To conduct social network analysis, we will need an 'edge list', which contains pairs of characters that have been in one scene."
   ]
  },
  {
   "cell_type": "code",
   "execution_count": 82,
   "id": "6bcd32fc",
   "metadata": {},
   "outputs": [
    {
     "data": {
      "text/plain": [
       "[['IMPERIAL OFFICER', 'VADER'],\n",
       " ['IMPERIAL OFFICER', 'REBEL OFFICER'],\n",
       " ['VADER', 'REBEL OFFICER'],\n",
       " ['CHIEF PILOT', 'CAPTAIN'],\n",
       " ['FIXER', 'CAMIE']]"
      ]
     },
     "execution_count": 82,
     "metadata": {},
     "output_type": "execute_result"
    }
   ],
   "source": [
    "edges_IV = []\n",
    "for item in character_IV:\n",
    "    # this will come out all the possible pairs within a list\n",
    "    pairs = [[a, b] for idx, a in enumerate(item) for b in item[idx + 1:]]\n",
    "    for pair in pairs:\n",
    "        # eliminate self-pairs because they can not be used for network analysis\n",
    "        if not pair[0] == pair[1]:\n",
    "            edges_IV.append(pair)\n",
    "edges_IV[0:5]"
   ]
  },
  {
   "cell_type": "markdown",
   "id": "3084000b",
   "metadata": {},
   "source": [
    "After preparing the edge list for episode IV, we can apply the same process to episodes V and IV to create their edge lists."
   ]
  },
  {
   "cell_type": "code",
   "execution_count": 83,
   "id": "4287695f",
   "metadata": {},
   "outputs": [
    {
     "data": {
      "text/plain": [
       "[['LUKE', 'HAN'],\n",
       " ['RIEEKAN', 'HAN'],\n",
       " ['RIEEKAN', 'LEIA'],\n",
       " ['HAN', 'LEIA'],\n",
       " ['LEIA', 'HAN']]"
      ]
     },
     "execution_count": 83,
     "metadata": {},
     "output_type": "execute_result"
    }
   ],
   "source": [
    "req_V = requests.get('https://imsdb.com/scripts/Star-Wars-The-Empire-Strikes-Back.html')\n",
    "soup_V = BeautifulSoup(req_V.content, 'html.parser')\n",
    "\n",
    "script_V = str(soup_V.find('pre').get_text())\n",
    "\n",
    "scene_list_V = re.split(r'[A-Z]{3}\\.', script_V)\n",
    "\n",
    "character_V = []\n",
    "for scene in scene_list_V:\n",
    "    name = re.findall(r'\\t([A-Z]{3,}|[A-Z]{3,}\\s[A-Z]{3,})\\r', scene)\n",
    "    characters = []\n",
    "    for character in name:\n",
    "        if not character in characters:\n",
    "            if not 'VOICE' in character:\n",
    "                characters.append(character)\n",
    "    if len(characters) > 1:\n",
    "        character_V.append(characters)\n",
    "\n",
    "edges_V = []\n",
    "for item in character_V:\n",
    "    pairs = [[a, b] for idx, a in enumerate(item) for b in item[idx + 1:]]\n",
    "    for pair in pairs:\n",
    "        if not pair[0] == pair[1]:\n",
    "            edges_V.append(pair)\n",
    "edges_V[0:5]"
   ]
  },
  {
   "cell_type": "code",
   "execution_count": 84,
   "id": "c0e9db51",
   "metadata": {},
   "outputs": [
    {
     "data": {
      "text/plain": [
       "[['OFFICER', 'OPERATOR'],\n",
       " ['JERJERROD', 'VADER'],\n",
       " ['THREEPIO', 'BIB'],\n",
       " ['THREEPIO', 'JABBA'],\n",
       " ['THREEPIO', 'LUKE']]"
      ]
     },
     "execution_count": 84,
     "metadata": {},
     "output_type": "execute_result"
    }
   ],
   "source": [
    "req_VI = requests.get('https://imsdb.com/scripts/Star-Wars-Return-of-the-Jedi.html')\n",
    "soup_VI = BeautifulSoup(req_VI.content, 'html.parser')\n",
    "\n",
    "script_VI = str(soup_VI.find('pre').get_text())\n",
    "\n",
    "scene_list_VI = re.split(r'[0-9]\\s\\s', script_VI)\n",
    "\n",
    "character_VI = []\n",
    "for scene in scene_list_VI:\n",
    "    name = re.findall(r'\\r\\n([A-Z]{3,}|[A-Z]{3,}\\s[A-Z]{3,})\\r\\n', scene)\n",
    "    characters = []\n",
    "    for character in name:\n",
    "        if not character in characters:\n",
    "            if not 'VOICE' in character:\n",
    "                characters.append(character)\n",
    "    if len(characters) > 1:\n",
    "        character_VI.append(characters)\n",
    "\n",
    "edges_VI = []\n",
    "for item in character_VI:\n",
    "    pairs = [[a, b] for idx, a in enumerate(item) for b in item[idx + 1:]]\n",
    "    for pair in pairs:\n",
    "        if not pair[0] == pair[1]:\n",
    "            edges_VI.append(pair)\n",
    "edges_VI[0:5]"
   ]
  },
  {
   "cell_type": "markdown",
   "id": "e1842237",
   "metadata": {},
   "source": [
    "The final step to perform social network analysis is to create a node list, which in this case is the distinct character list within our edge lists."
   ]
  },
  {
   "cell_type": "code",
   "execution_count": 85,
   "id": "61629356",
   "metadata": {},
   "outputs": [],
   "source": [
    "# define a function to create a list with distinct characters from an edge list\n",
    "def nodes(edges):\n",
    "    node_list = []\n",
    "    for pair in edges:\n",
    "        for character in pair:\n",
    "            if not character in node_list:\n",
    "                node_list.append(character)\n",
    "    return node_list\n",
    "\n",
    "# apply the function to the three edge lists\n",
    "nodes_IV = nodes(edges_IV)\n",
    "nodes_V = nodes(edges_V)\n",
    "nodes_VI = nodes(edges_VI)\n",
    "\n",
    "# combine the three node lists and eliminate the duplicates\n",
    "nodes_all = []\n",
    "for node in nodes_IV + nodes_V + nodes_VI:\n",
    "    if not node in nodes_all:\n",
    "        nodes_all.append(node)"
   ]
  },
  {
   "cell_type": "markdown",
   "id": "dae12fca",
   "metadata": {},
   "source": [
    "Now we have the edge and node lists, we can use them with the package networkx to perform social network analysis! An important concept of social network analysis is 'degree centrality', which measures the count of neighbours a node has. We can first compute the degree centrality of each node (character)."
   ]
  },
  {
   "cell_type": "code",
   "execution_count": 86,
   "id": "90117b8b",
   "metadata": {},
   "outputs": [],
   "source": [
    "import networkx as nx"
   ]
  },
  {
   "cell_type": "code",
   "execution_count": 87,
   "id": "891c0dc2",
   "metadata": {},
   "outputs": [
    {
     "data": {
      "text/plain": [
       "DegreeView({'IMPERIAL OFFICER': 9, 'VADER': 28, 'REBEL OFFICER': 2, 'CHIEF PILOT': 1, 'CAPTAIN': 2, 'FIXER': 4, 'CAMIE': 4, 'LUKE': 44, 'BIGGS': 11, 'DEAK': 4, 'LEIA': 32, 'COMMANDER': 9, 'SECOND OFFICER': 4, 'FIRST TROOPER': 8, 'SECOND TROOPER': 2, 'BERU': 3, 'OWEN': 4, 'THREEPIO': 41, 'AUNT BERU': 4, 'BEN': 12, 'TAGGE': 3, 'MOTTI': 4, 'TARKIN': 8, 'TROOPER': 9, 'BARTENDER': 5, 'CREATURE': 6, 'HUMAN': 5, 'HAN': 31, 'GREEDO': 1, 'SPEEDER LOT': 2, 'JABBA': 6, 'OFFICER CASS': 2, 'OFFICER': 8, 'GANTRY OFFICER': 4, 'AREA': 2, 'FIRST OFFICER': 3, 'WILLARD': 1, 'DODONNA': 3, 'GOLD LEADER': 5, 'WEDGE': 16, 'RED LEADER': 8, 'CHIEF': 5, 'RED SEVEN': 1, 'PORKINS': 1, 'RED NINE': 1, 'RED ELEVEN': 1, 'RED TEN': 2, 'TECHNICIAN': 4, 'RIEEKAN': 5, 'DECK OFFICER': 3, 'ASSISTANT OFFICER': 2, 'LIEUTENANT': 2, 'DERLIN': 5, 'ZEV': 2, 'ANNOUNCER': 6, 'SENIOR CONTROLLER': 4, 'PIETT': 9, 'OZZEL': 3, 'REBEL CAPTAIN': 1, 'REBEL FIGHTER': 1, 'MEDICAL DROID': 1, 'CONTROLLER': 9, 'VEERS': 4, 'HOBBIE': 3, 'PILOTS': 3, 'DACK': 2, 'TRENCH OFFICER': 1, 'JANSON': 1, 'HEAD CONTROLLER': 4, 'PILOT': 3, 'NEEDA': 4, 'EMPEROR': 2, 'YODA': 3, 'FIRST CONTROLLER': 4, 'SECOND CONTROLLER': 4, 'BOBA FETT': 9, 'TRACKING OFFICER': 2, 'COMMUNICATIONS OFFICER': 2, 'LANDO': 19, 'SECOND THREEPIO': 3, 'IMPERIAL SOLDIER': 2, 'OPERATOR': 1, 'JERJERROD': 1, 'BIB': 3, 'NINEDENINE': 1, 'OOLA': 3, 'BOUSHH': 5, 'MON MOTHMA': 6, 'ACKBAR': 10, 'GENERAL MADINE': 6, 'LURE': 4, 'GRAY LEADER': 3, 'GREEN LEADER': 3, 'REBEL PILOT': 4, 'STORMTROOPER': 4, 'BUNKER COMMANDER': 4, 'RED TWO': 4, 'RED THREE': 4, 'NAVIGATOR': 4, 'ANAKIN': 3})"
      ]
     },
     "execution_count": 87,
     "metadata": {},
     "output_type": "execute_result"
    }
   ],
   "source": [
    "G = nx.Graph()\n",
    "\n",
    "# insert the edge list\n",
    "G.add_edges_from(edges_IV + edges_V + edges_VI)\n",
    "\n",
    "G.degree()"
   ]
  },
  {
   "cell_type": "markdown",
   "id": "4414cc82",
   "metadata": {},
   "source": [
    "After sorting the degree centrality and plotting the network, it is without a doubt that Luke, Leia and Han are in the centre among the characters. However, surprisingly, Threepio's degree centrality is even higher than Leia and Han, meaning that it (or he?) should also be considered one of the main characters in the trilogy."
   ]
  },
  {
   "cell_type": "code",
   "execution_count": 88,
   "id": "2cc38258",
   "metadata": {},
   "outputs": [
    {
     "data": {
      "text/plain": [
       "[('LUKE', 44),\n",
       " ('THREEPIO', 41),\n",
       " ('LEIA', 32),\n",
       " ('HAN', 31),\n",
       " ('VADER', 28),\n",
       " ('LANDO', 19),\n",
       " ('WEDGE', 16),\n",
       " ('BEN', 12),\n",
       " ('BIGGS', 11)]"
      ]
     },
     "execution_count": 88,
     "metadata": {},
     "output_type": "execute_result"
    }
   ],
   "source": [
    "# show nodes with top 10 degree centrality\n",
    "sorted(G.degree(), key = lambda x: x[1], reverse = True)[0:9]"
   ]
  },
  {
   "cell_type": "code",
   "execution_count": 89,
   "id": "c417f84e",
   "metadata": {},
   "outputs": [
    {
     "data": {
      "image/png": "[encoded data removed]",
      "text/plain": [
       "<Figure size 1440x720 with 1 Axes>"
      ]
     },
     "metadata": {},
     "output_type": "display_data"
    }
   ],
   "source": [
    "# create another graph here because we will filter it later\n",
    "# and we do not want to mess it with the original one\n",
    "G_plot = nx.Graph()\n",
    "G_plot.add_edges_from(edges_IV + edges_V + edges_VI)\n",
    "\n",
    "# make a list of nodes that have degree centrality > 5\n",
    "# so we can use this as node list after\n",
    "keep = [node for node in nodes_all if G_plot.degree[node] >= 5]\n",
    "\n",
    "# filter out the nodes with a degree centrality < 5\n",
    "G_plot.remove_nodes_from([node for node in nodes_all if G_plot.degree[node] < 5])\n",
    "\n",
    "# determine the size of each node by its degree centrality\n",
    "node_sizes = [G_plot.degree[node] * 100 for node in keep]\n",
    "\n",
    "# plot the network\n",
    "fig, ax = plt.subplots(figsize = (20,10))\n",
    "nx.draw(G_plot, ax = ax, with_labels = True, nodelist = keep, node_size = node_sizes)"
   ]
  }
 ],
 "metadata": {
  "kernelspec": {
   "display_name": "Python 3 (ipykernel)",
   "language": "python",
   "name": "python3"
  },
  "language_info": {
   "codemirror_mode": {
    "name": "ipython",
    "version": 3
   },
   "file_extension": ".py",
   "mimetype": "text/x-python",
   "name": "python",
   "nbconvert_exporter": "python",
   "pygments_lexer": "ipython3",
   "version": "3.9.12"
  }
 },
 "nbformat": 4,
 "nbformat_minor": 5
}
